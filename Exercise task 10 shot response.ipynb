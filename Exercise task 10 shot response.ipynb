{
  "nbformat": 4,
  "nbformat_minor": 0,
  "metadata": {
    "colab": {
      "provenance": [],
      "gpuType": "T4",
      "authorship_tag": "ABX9TyNNJI7/LhQ4ZJOsC/bMDwcp",
      "include_colab_link": true
    },
    "kernelspec": {
      "name": "python3",
      "display_name": "Python 3"
    },
    "language_info": {
      "name": "python"
    },
    "accelerator": "GPU"
  },
  "cells": [
    {
      "cell_type": "markdown",
      "metadata": {
        "id": "view-in-github",
        "colab_type": "text"
      },
      "source": [
        "<a href=\"https://colab.research.google.com/github/simulate111/Basics-of-Programming---Exercise/blob/main/Exercise%20task%2010%20shot%20response.ipynb\" target=\"_parent\"><img src=\"https://colab.research.google.com/assets/colab-badge.svg\" alt=\"Open In Colab\"/></a>"
      ]
    },
    {
      "cell_type": "code",
      "execution_count": null,
      "metadata": {
        "id": "rJeoRNQfRHJM"
      },
      "outputs": [],
      "source": [
        "from transformers import pipeline"
      ]
    },
    {
      "cell_type": "code",
      "source": [
        "pipe = pipeline(\n",
        "    'text-generation',\n",
        "    'EleutherAI/gpt-neo-1.3B',\n",
        "    device_map='auto',\n",
        "    torch_dtype='auto'\n",
        ")"
      ],
      "metadata": {
        "id": "7He8dlrQRjPA"
      },
      "execution_count": null,
      "outputs": []
    },
    {
      "cell_type": "code",
      "source": [
        "pipe2 = pipeline(\n",
        "    'text-generation',\n",
        "    'huggyllama/llama-7b',\n",
        "    device_map='auto',\n",
        "    torch_dtype='auto'\n",
        ")"
      ],
      "metadata": {
        "id": "1WO5TsmcSbgF"
      },
      "execution_count": null,
      "outputs": []
    },
    {
      "cell_type": "code",
      "source": [
        "print(\"Zero-Shot:\")\n",
        "print(pipe('what is the capital of Finland?'))"
      ],
      "metadata": {
        "id": "OXXTOVAgXmL8"
      },
      "execution_count": null,
      "outputs": []
    },
    {
      "cell_type": "code",
      "source": [
        "print(\"Zero-Shot2:\")\n",
        "print(pipe2('what is the capital of Finland?'))\n"
      ],
      "metadata": {
        "id": "xEI9UniJX3py"
      },
      "execution_count": null,
      "outputs": []
    },
    {
      "cell_type": "code",
      "source": [
        "print(\"One-Shot:\")\n",
        "print(pipe('What is the capital of Germany? Answer: Berlin What is the capital of Finland? Answer:'))\n"
      ],
      "metadata": {
        "id": "1FS7Oo-9XnXR"
      },
      "execution_count": null,
      "outputs": []
    },
    {
      "cell_type": "code",
      "source": [
        "print(\"One-Shot2:\")\n",
        "print(pipe2('''What is the capital of Germany? Answer: Berlin What is the capital of Finland? Answer:''', max_length=50))"
      ],
      "metadata": {
        "id": "QRThOAYlX5_w"
      },
      "execution_count": null,
      "outputs": []
    },
    {
      "cell_type": "code",
      "source": [
        "print(\"Few-Shot:\")\n",
        "print(pipe('''What is the capital of Germany?\n",
        "Answer: Berlin\n",
        "What is the capital of France?\n",
        "Answer: Paris\n",
        "What is the capital of Italy?\n",
        "Answer: Rome\n",
        "What is the capital of Finland? Answer:'''))"
      ],
      "metadata": {
        "id": "kqcUPFNUXogO"
      },
      "execution_count": null,
      "outputs": []
    },
    {
      "cell_type": "code",
      "source": [
        "print(\"Few-Shot2:\")\n",
        "print(pipe2('''What is the capital of Germany?\n",
        "Answer: Berlin\n",
        "What is the capital of France?\n",
        "Answer: Paris\n",
        "What is the capital of Italy?\n",
        "Answer: Rome\n",
        "What is the capital of Finland?''', max_length=50))"
      ],
      "metadata": {
        "id": "VPWa1ru0X-Id"
      },
      "execution_count": null,
      "outputs": []
    }
  ]
}