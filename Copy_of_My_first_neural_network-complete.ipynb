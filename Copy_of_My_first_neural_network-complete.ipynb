{
  "nbformat": 4,
  "nbformat_minor": 0,
  "metadata": {
    "kernelspec": {
      "display_name": "Python 3",
      "name": "python3"
    },
    "language_info": {
      "codemirror_mode": {
        "name": "ipython",
        "version": 3
      },
      "file_extension": ".py",
      "mimetype": "text/x-python",
      "name": "python",
      "nbconvert_exporter": "python",
      "pygments_lexer": "ipython3",
      "version": "3.7.9"
    },
    "nav_menu": {
      "height": "264px",
      "width": "369px"
    },
    "toc": {
      "navigate_menu": true,
      "number_sections": true,
      "sideBar": true,
      "threshold": 6,
      "toc_cell": false,
      "toc_section_display": "block",
      "toc_window_display": false
    },
    "colab": {
      "provenance": [],
      "collapsed_sections": [
        "qhFCJJT4Va-I",
        "Gj7F1cRneOmD",
        "pv2AuYfKZc8T",
        "uoRvyRUPmOBb",
        "GTEjSMJ2X-Qb",
        "DDjfh2l8xhKQ",
        "6soNuFpW5vtL",
        "rdsrkkF2-FQI",
        "QEnsTx9d-sRj",
        "ynO53ErSC3rB",
        "xipc69pRqobD",
        "x4rkVQ6_ujYL"
      ],
      "gpuType": "T4",
      "include_colab_link": true
    },
    "accelerator": "GPU"
  },
  "cells": [
    {
      "cell_type": "markdown",
      "metadata": {
        "id": "view-in-github",
        "colab_type": "text"
      },
      "source": [
        "<a href=\"https://colab.research.google.com/github/simulate111/Basics-of-Programming---Exercise/blob/main/Copy_of_My_first_neural_network-complete.ipynb\" target=\"_parent\"><img src=\"https://colab.research.google.com/assets/colab-badge.svg\" alt=\"Open In Colab\"/></a>"
      ]
    },
    {
      "cell_type": "markdown",
      "metadata": {
        "id": "qhFCJJT4Va-I"
      },
      "source": [
        "# **My first neural network**\n",
        "\n",
        "This notebook is adapted from Aurelion Geron's \"Neural nets in Keras\" notebook (section \"Building an Image Classifier\"). You can find all of his notebooks from [here](https://github.com/ageron/handson-ml2). You can find more details in the [TF Sequential model guide](https://www.tensorflow.org/guide/keras/sequential_model) (it uses a convolutional net as the model, but the text should be mostly understandable anyway)."
      ]
    },
    {
      "cell_type": "markdown",
      "metadata": {
        "id": "R9HEKyJDVa-J"
      },
      "source": [
        "<table align=\"left\">\n",
        "  <td>\n",
        "    <a target=\"_blank\" href=\"https://colab.research.google.com/github/ageron/handson-ml2/blob/master/10_neural_nets_with_keras.ipynb\"><img src=\"https://www.tensorflow.org/images/colab_logo_32px.png\" />Run in Google Colab</a>\n",
        "  </td>\n",
        "</table>"
      ]
    },
    {
      "cell_type": "markdown",
      "metadata": {
        "id": "hUuq81B8Va-K"
      },
      "source": [
        "We first import a few common modules and ensure MatplotLib plots figures inline."
      ]
    },
    {
      "cell_type": "code",
      "metadata": {
        "id": "ZGXHxpgWVa-K"
      },
      "source": [
        "import numpy as np\n",
        "import os\n",
        "\n",
        "%matplotlib inline\n",
        "import matplotlib as mpl\n",
        "import matplotlib.pyplot as plt\n",
        "mpl.rc('axes', labelsize=14)\n",
        "mpl.rc('xtick', labelsize=12)\n",
        "mpl.rc('ytick', labelsize=12)"
      ],
      "execution_count": 1,
      "outputs": []
    },
    {
      "cell_type": "markdown",
      "metadata": {
        "id": "o0n7kI03Va-N"
      },
      "source": [
        "Import TensorFlow and Keras."
      ]
    },
    {
      "cell_type": "code",
      "metadata": {
        "id": "dEkP6_ZNVa-O",
        "colab": {
          "base_uri": "https://localhost:8080/"
        },
        "outputId": "26985e56-c38a-4a44-8018-0492f1f8e455"
      },
      "source": [
        "import tensorflow as tf\n",
        "from tensorflow import keras\n",
        "import keras\n",
        "# Just comment these off if you don't want to see them\n",
        "print(\"TF:    \", tf.__version__)\n",
        "print(\"Keras: \", keras.__version__)"
      ],
      "execution_count": 2,
      "outputs": [
        {
          "output_type": "stream",
          "name": "stdout",
          "text": [
            "TF:     2.15.0\n",
            "Keras:  2.15.0\n"
          ]
        }
      ]
    },
    {
      "cell_type": "code",
      "source": [
        "#!pip install scikeras[tensorflow]\n",
        "#from scikeras.wrappers import KerasRegressor\n",
        "#keras_reg = KerasRegressor(build_model)"
      ],
      "metadata": {
        "id": "9HA9Bx7bBrsv"
      },
      "execution_count": 3,
      "outputs": []
    },
    {
      "cell_type": "markdown",
      "metadata": {
        "id": "RBGZLaPXdmL5"
      },
      "source": [
        "Initialize random number generators. In this way we get same results on different runs of the notebook."
      ]
    },
    {
      "cell_type": "code",
      "metadata": {
        "id": "5CEvNwdtc_P8"
      },
      "source": [
        "np.random.seed(42)\n",
        "tf.random.set_seed(42)"
      ],
      "execution_count": 4,
      "outputs": []
    },
    {
      "cell_type": "markdown",
      "metadata": {
        "id": "Gj7F1cRneOmD"
      },
      "source": [
        "# Loading the Fashion MNIST dataset"
      ]
    },
    {
      "cell_type": "markdown",
      "metadata": {
        "id": "xA-d5O9gVa-O"
      },
      "source": [
        "Keras has a few [datasets](https://www.tensorflow.org/api_docs/python/tf/keras/datasets) readily available, and loading them is very easy. These datasets are reasonably small so we can just load them in numpy vectors. For the one we are using - Fashion MNIST - see its [`load_data`](https://www.tensorflow.org/api_docs/python/tf/keras/datasets/fashion_mnist/load_data) documentation for more information about this dataset.\n",
        "\n",
        "Fashion MNIST dataset is already split to a training set and a test set. We'll split the full training set further to an actual training set and a validation set (hence the choice of names below)."
      ]
    },
    {
      "cell_type": "code",
      "metadata": {
        "id": "8-BhpaLdVa-O",
        "colab": {
          "base_uri": "https://localhost:8080/"
        },
        "outputId": "2b9f5b41-cf9d-400e-d0f9-1c1b53917744"
      },
      "source": [
        "#fashion_mnist = keras.datasets.fashion_mnist\n",
        "fashion_mnist = keras.datasets.mnist\n",
        "(X_train_full, y_train_full), (X_test, y_test) = fashion_mnist.load_data()"
      ],
      "execution_count": 5,
      "outputs": [
        {
          "output_type": "stream",
          "name": "stdout",
          "text": [
            "Downloading data from https://storage.googleapis.com/tensorflow/tf-keras-datasets/mnist.npz\n",
            "11490434/11490434 [==============================] - 1s 0us/step\n"
          ]
        }
      ]
    },
    {
      "cell_type": "markdown",
      "metadata": {
        "id": "Qhh56Q_AVa-O"
      },
      "source": [
        "Let's see what the training data is made of. Recall that tensors are just grid-like arrangements of elements. `shape` tells the form of that grid and `dtype` the type of elements."
      ]
    },
    {
      "cell_type": "code",
      "metadata": {
        "id": "etSZhw9sVa-P",
        "colab": {
          "base_uri": "https://localhost:8080/"
        },
        "outputId": "eec4b3de-21ba-46ec-9cdf-332280a024be"
      },
      "source": [
        "print('Training data shape:', X_train_full.shape)\n",
        "print('Training data dtype:', X_train_full.dtype)"
      ],
      "execution_count": 6,
      "outputs": [
        {
          "output_type": "stream",
          "name": "stdout",
          "text": [
            "Training data shape: (60000, 28, 28)\n",
            "Training data dtype: uint8\n"
          ]
        }
      ]
    },
    {
      "cell_type": "markdown",
      "metadata": {
        "id": "6ag4MwSYVa-P"
      },
      "source": [
        "Each pixel intensity is represented as a byte (unsigned 8-bit integer), hence the value range is from 0 to 255."
      ]
    },
    {
      "cell_type": "markdown",
      "metadata": {
        "id": "pQBLD8WIUeLv"
      },
      "source": [
        "How about the labels?"
      ]
    },
    {
      "cell_type": "code",
      "metadata": {
        "id": "Ej2s4uiiUg3V",
        "colab": {
          "base_uri": "https://localhost:8080/"
        },
        "outputId": "2c502ebb-a7f1-4ef2-fee6-6940223e5e5a"
      },
      "source": [
        "print('Training label shape:', y_train_full.shape)\n",
        "print('Training label dtype:', y_train_full.dtype)"
      ],
      "execution_count": 7,
      "outputs": [
        {
          "output_type": "stream",
          "name": "stdout",
          "text": [
            "Training label shape: (60000,)\n",
            "Training label dtype: uint8\n"
          ]
        }
      ]
    },
    {
      "cell_type": "markdown",
      "metadata": {
        "id": "3Fdb95jGVa-Q"
      },
      "source": [
        "The labels are the class IDs (represented as uint8), from 0 to 9:"
      ]
    },
    {
      "cell_type": "code",
      "metadata": {
        "id": "XV9INcwwVa-Q",
        "colab": {
          "base_uri": "https://localhost:8080/"
        },
        "outputId": "1a71df86-f334-41b3-af4f-6c658532aafb"
      },
      "source": [
        "print(y_train_full)"
      ],
      "execution_count": 8,
      "outputs": [
        {
          "output_type": "stream",
          "name": "stdout",
          "text": [
            "[5 0 4 ... 5 6 8]\n"
          ]
        }
      ]
    },
    {
      "cell_type": "markdown",
      "metadata": {
        "id": "bO2ywKV4Va-R"
      },
      "source": [
        "Here are the corresponding class names:"
      ]
    },
    {
      "cell_type": "code",
      "metadata": {
        "id": "MFKMGJU6Va-R"
      },
      "source": [
        "#As I replaced Just replace the line (fashion_mnist = keras.datasets.fashion_mnist) with (fashion_mnist = keras.datasets.mnist)\n",
        "#(Of course, the list class_names makes now no sense).\n",
        "class_names = [\"T-shirt/top\", \"Trousers\", \"Pullover\", \"Dress\", \"Coat\", \"Sandal\", \"Shirt\", \"Sneaker\", \"Bag\", \"Ankle boot\"]"
      ],
      "execution_count": 9,
      "outputs": []
    },
    {
      "cell_type": "markdown",
      "metadata": {
        "id": "1lpuhWIqVa-R"
      },
      "source": [
        "We can no decode the class names of examples."
      ]
    },
    {
      "cell_type": "code",
      "metadata": {
        "id": "JJopfiGpVa-R",
        "colab": {
          "base_uri": "https://localhost:8080/"
        },
        "outputId": "727c3d0f-d073-42be-e127-58e55c7242b8"
      },
      "source": [
        "print('Class of the first image is \"', class_names[y_train_full[0]], '\"')"
      ],
      "execution_count": 10,
      "outputs": [
        {
          "output_type": "stream",
          "name": "stdout",
          "text": [
            "Class of the first image is \" Sandal \"\n"
          ]
        }
      ]
    },
    {
      "cell_type": "markdown",
      "metadata": {
        "id": "tluOh8RlVa-Q"
      },
      "source": [
        "We next split the full training set into a validation set (first 5000 examples) and the actual training set (from 5000 upwards). A similar split is done for the target values.\n",
        "\n",
        "We also scale all pixel intensities down to the 0-1 range and convert them to floats, simply by dividing them by (floating point) 255."
      ]
    },
    {
      "cell_type": "code",
      "metadata": {
        "id": "OP_31aMUVa-Q"
      },
      "source": [
        "X_valid, X_train = 2*X_train_full[:5000] / 255.-1, 2*X_train_full[5000:] / 255.-1\n",
        "\n",
        "y_valid, y_train = y_train_full[:5000], y_train_full[5000:]\n",
        "\n",
        "# remember to scale all data in a similar way\n",
        "X_test = 2*X_test / 255.-1"
      ],
      "execution_count": 11,
      "outputs": []
    },
    {
      "cell_type": "markdown",
      "metadata": {
        "id": "68UAGmDaVa-R"
      },
      "source": [
        "Let's verify that our datasets are as intended."
      ]
    },
    {
      "cell_type": "code",
      "metadata": {
        "id": "wOXHODJUVa-R",
        "colab": {
          "base_uri": "https://localhost:8080/"
        },
        "outputId": "b78964f2-386d-4c4d-a4e2-326309120048"
      },
      "source": [
        "print('Training data shape  :', X_train.shape)\n",
        "print('Validation data shape:', X_valid.shape)\n",
        "print('Test data shape      :', X_test.shape)"
      ],
      "execution_count": 12,
      "outputs": [
        {
          "output_type": "stream",
          "name": "stdout",
          "text": [
            "Training data shape  : (55000, 28, 28)\n",
            "Validation data shape: (5000, 28, 28)\n",
            "Test data shape      : (10000, 28, 28)\n"
          ]
        }
      ]
    },
    {
      "cell_type": "markdown",
      "metadata": {
        "id": "0GoopuQ-Va-Q"
      },
      "source": [
        "You can plot an image using Matplotlib's `imshow()` function, with a `'binary'`\n",
        " color map. Note that we do this after scaling the pixels to 0-1 floats."
      ]
    },
    {
      "cell_type": "code",
      "metadata": {
        "id": "fzAMtWKPVa-Q",
        "colab": {
          "base_uri": "https://localhost:8080/",
          "height": 406
        },
        "outputId": "7e30ba39-843c-4355-9a79-7bfd0d901ff7"
      },
      "source": [
        "plt.imshow(X_train[0], cmap=\"binary\")\n",
        "plt.axis('off')\n",
        "plt.show()"
      ],
      "execution_count": 13,
      "outputs": [
        {
          "output_type": "display_data",
          "data": {
            "text/plain": [
              "<Figure size 640x480 with 1 Axes>"
            ],
            "image/png": "[encoded data removed]"
          },
          "metadata": {}
        }
      ]
    },
    {
      "cell_type": "markdown",
      "metadata": {
        "id": "at7-ad3pVa-S"
      },
      "source": [
        "Let's take a look at a larger sample of images (we also label them with their class names)."
      ]
    },
    {
      "cell_type": "code",
      "metadata": {
        "id": "VVrqe8aSVa-S",
        "colab": {
          "base_uri": "https://localhost:8080/",
          "height": 428
        },
        "outputId": "42977618-9dc7-4cac-e914-6c691b2dd955"
      },
      "source": [
        "n_rows = 4\n",
        "n_cols = 10\n",
        "plt.figure(figsize=(n_cols * 1.2, n_rows * 1.2))\n",
        "\n",
        "for row in range(n_rows):\n",
        "    for col in range(n_cols):\n",
        "        index = n_cols * row + col\n",
        "        plt.subplot(n_rows, n_cols, index + 1)\n",
        "        plt.imshow(X_train[index], cmap=\"binary\", interpolation=\"nearest\")\n",
        "        plt.axis('off')\n",
        "        plt.title(class_names[y_train[index]], fontsize=12)\n",
        "\n",
        "plt.subplots_adjust(wspace=0.2, hspace=0.5)\n",
        "\n",
        "plt.show()"
      ],
      "execution_count": 14,
      "outputs": [
        {
          "output_type": "display_data",
          "data": {
            "text/plain": [
              "<Figure size 1200x480 with 40 Axes>"
            ],
            "image/png": "[encoded data removed]"
          },
          "metadata": {}
        }
      ]
    },
    {
      "cell_type": "markdown",
      "metadata": {
        "id": "pv2AuYfKZc8T"
      },
      "source": [
        "# Creating the model"
      ]
    },
    {
      "cell_type": "markdown",
      "metadata": {
        "id": "kNRrt6bwZkbs"
      },
      "source": [
        "We build a MLP with two hidden layers using the Keras [Sequential API](https://www.tensorflow.org/api_docs/python/tf/keras/Sequential).\n",
        "\n",
        "Sequential models offer a very easy way of building neural networks that are composed of a single stack of layers connected sequentially (like MLPs). We just add them on top of each other using the `add` operation."
      ]
    },
    {
      "cell_type": "code",
      "metadata": {
        "id": "mqeyrGfrdB8N"
      },
      "source": [
        "model = keras.models.Sequential()"
      ],
      "execution_count": 15,
      "outputs": []
    },
    {
      "cell_type": "markdown",
      "metadata": {
        "id": "Jx4P9ZIKdKSM"
      },
      "source": [
        "Recall that MLPs want their inputs as vectors. And our data consists of small matrices.\n",
        "\n",
        "The first layer is an utility layer that converts (flattens) the pixel matrices to vectors (of 28*28 = 784 elements). You could do the same with Numpy [`reshape`](https://numpy.org/doc/stable/reference/generated/numpy.reshape.html)(and then use the resulting vector as the input)."
      ]
    },
    {
      "cell_type": "code",
      "metadata": {
        "id": "LHt5xJ38dGZ0"
      },
      "source": [
        "model.add(keras.layers.Flatten(input_shape = (28, 28)))"
      ],
      "execution_count": 16,
      "outputs": []
    },
    {
      "cell_type": "markdown",
      "metadata": {
        "id": "p9NesDZSz9mo"
      },
      "source": [
        "We also specified the input shape for the first layer appearing in the network.Note that the shape does _not_ include the minibatch size, just the shape of the data elements. Keras needs to know this shape before it can (automatically) build weight matrix and bias vector between the input and first hidden layer.\n",
        "\n",
        "Specifying the input shape is not strictly necessary: Keras will build the weight matrix when the model is first trained with actual data (the input shape is evident from the trainig data).\n",
        "\n",
        "*Best practise*: specify the input shape of a Sequential model if you know what it is. In this way you can print model summaries immediately after adding layers."
      ]
    },
    {
      "cell_type": "code",
      "metadata": {
        "id": "LIYPs6vgWtby",
        "colab": {
          "base_uri": "https://localhost:8080/"
        },
        "outputId": "4d669830-4f84-4df2-8da5-b5403a3fae23"
      },
      "source": [
        "# It's also a good practise to present numbers as products of the things they are made of\n",
        "# So instead of 784 (nobody knows where it came from), use 28*28\n",
        "print(28*28)"
      ],
      "execution_count": 17,
      "outputs": [
        {
          "output_type": "stream",
          "name": "stdout",
          "text": [
            "784\n"
          ]
        }
      ]
    },
    {
      "cell_type": "markdown",
      "metadata": {
        "id": "ikdYII23fORc"
      },
      "source": [
        "Next we add two (fully connected) hidden layers and specify their sizes and activation functions.\n",
        "\n",
        "Fully connected layers are called [`Dense`](https://www.tensorflow.org/api_docs/python/tf/keras/layers/Dense) layers. Each Dense layer has its own weight matrix and bias vector.\n",
        "\n",
        "If you don't give an activation, it defaults to \"no activation\" (i.e. the output is what weight matrix*input vector + bias gives).\n",
        "\n",
        "**Note.**\n",
        "Many Keras operations can be accessed using a \"string name\". For example, specifying `activation=\"relu\"` is equivalent to specifying `activation=keras.activations.relu`. In practise this means that the corresponding operation will be used with its default parameter values. You find lots and lots of tutorials using this string naming.\n",
        "\n",
        "*Best practise:* Always use the actual classes and operations, not their string names. Everyone sees then from which library the operation comes from, and you can give your own parameter values instead of the default ones. If you want to make the names shorter, just introduce your own aliases."
      ]
    },
    {
      "cell_type": "code",
      "metadata": {
        "id": "G4qEntZRVa-S"
      },
      "source": [
        "model.add(keras.layers.Dense(300, activation = keras.activations.relu))\n",
        "\n",
        "# use your own naming\n",
        "my_activation = keras.activations.relu\n",
        "model.add(keras.layers.Dense(100, activation = my_activation))"
      ],
      "execution_count": 18,
      "outputs": []
    },
    {
      "cell_type": "code",
      "metadata": {
        "id": "HyO4kJY3XEJi"
      },
      "source": [
        "# same using the string names\n",
        "# model.add(keras.layers.Dense(300, activation=\"relu\"))\n",
        "# model.add(keras.layers.Dense(100, activation=\"relu\"))"
      ],
      "execution_count": 19,
      "outputs": []
    },
    {
      "cell_type": "markdown",
      "metadata": {
        "id": "X9v3TqB3j1se"
      },
      "source": [
        "We end the model with an output layer of size 10 (since we had 10 classes) and [`softmax`](https://www.tensorflow.org/api_docs/python/tf/keras/activations/softmax) activation (since we have a multiclass problem).\n"
      ]
    },
    {
      "cell_type": "code",
      "metadata": {
        "id": "H3xTITqjhLB7"
      },
      "source": [
        "model.add(keras.layers.Dense(10, activation = keras.activations.softmax))\n",
        "\n",
        "# model.add(keras.layers.Dense(10, activation = \"softmax\"))"
      ],
      "execution_count": 20,
      "outputs": []
    },
    {
      "cell_type": "markdown",
      "metadata": {
        "id": "LhaS3Vojkclg"
      },
      "source": [
        "The Sequential model initializer accepts a list of model layers, so we can build our model also in the way below. This is a more flexible way and allows you to build such layer lists in your code before creating a model."
      ]
    },
    {
      "cell_type": "code",
      "metadata": {
        "id": "d4vBF1s5Va-S"
      },
      "source": [
        "# This is useful when you create and throw away lots of models (consumes memory)\n",
        "# See https://www.tensorflow.org/api_docs/python/tf/keras/backend/clear_session\n",
        "\n",
        "def free_memory():\n",
        "  keras.backend.clear_session()"
      ],
      "execution_count": 21,
      "outputs": []
    },
    {
      "cell_type": "code",
      "metadata": {
        "id": "0fDT9XJqVa-S"
      },
      "source": [
        "model = keras.models.Sequential([\n",
        "    keras.layers.Flatten(input_shape = (28, 28)),\n",
        "    keras.layers.Dense(300, activation = keras.activations.relu),\n",
        "    keras.layers.Dense(100, activation = keras.activations.relu),\n",
        "    keras.layers.Dense(10,  activation = keras.activations.softmax)\n",
        "])"
      ],
      "execution_count": 22,
      "outputs": []
    },
    {
      "cell_type": "markdown",
      "metadata": {
        "id": "Vy88pfuQaXtV"
      },
      "source": [
        "You can also make a routine that returns models. In this way you can easily create new fresh untrained models when needed."
      ]
    },
    {
      "cell_type": "code",
      "metadata": {
        "id": "YtQSbkK3ajuH"
      },
      "source": [
        "def create_MLP():\n",
        "  model = keras.models.Sequential([\n",
        "    keras.layers.Flatten(input_shape = (28, 28)),\n",
        "    keras.layers.Dense(300, activation = keras.activations.relu),\n",
        "    keras.layers.Dense(100, activation = keras.activations.relu),\n",
        "    keras.layers.Dense(10,  activation = keras.activations.softmax)\n",
        "  ])\n",
        "  return model"
      ],
      "execution_count": 23,
      "outputs": []
    },
    {
      "cell_type": "code",
      "metadata": {
        "id": "7iXENz6easBP"
      },
      "source": [
        "free_memory()\n",
        "model = create_MLP()"
      ],
      "execution_count": 24,
      "outputs": []
    },
    {
      "cell_type": "markdown",
      "metadata": {
        "id": "uoRvyRUPmOBb"
      },
      "source": [
        "# Examining models"
      ]
    },
    {
      "cell_type": "markdown",
      "metadata": {
        "id": "H4Yt5XK8mdlR"
      },
      "source": [
        "The usual way to examine a (possibly partially) built model is its `summary()`."
      ]
    },
    {
      "cell_type": "code",
      "metadata": {
        "id": "Evca-Cdsm6vY",
        "colab": {
          "base_uri": "https://localhost:8080/"
        },
        "outputId": "90721dd7-d39a-466b-cda1-5f7372b3c904"
      },
      "source": [
        "model.summary()"
      ],
      "execution_count": 25,
      "outputs": [
        {
          "output_type": "stream",
          "name": "stdout",
          "text": [
            "Model: \"sequential\"\n",
            "_________________________________________________________________\n",
            " Layer (type)                Output Shape              Param #   \n",
            "=================================================================\n",
            " flatten (Flatten)           (None, 784)               0         \n",
            "                                                                 \n",
            " dense (Dense)               (None, 300)               235500    \n",
            "                                                                 \n",
            " dense_1 (Dense)             (None, 100)               30100     \n",
            "                                                                 \n",
            " dense_2 (Dense)             (None, 10)                1010      \n",
            "                                                                 \n",
            "=================================================================\n",
            "Total params: 266610 (1.02 MB)\n",
            "Trainable params: 266610 (1.02 MB)\n",
            "Non-trainable params: 0 (0.00 Byte)\n",
            "_________________________________________________________________\n"
          ]
        }
      ]
    },
    {
      "cell_type": "markdown",
      "metadata": {
        "id": "o1ghW87QxC3M"
      },
      "source": [
        "The first axis is (always) the \"batch axis\". Value `None` tells that it has not been specified (this is ok and allows you to use different minibatch sizes with the same model)."
      ]
    },
    {
      "cell_type": "markdown",
      "metadata": {
        "id": "XCK6JBsL4Kpw"
      },
      "source": [
        "*Best practise:*  When building a new model, print model summaries every now and then after adding new layers.\n"
      ]
    },
    {
      "cell_type": "markdown",
      "metadata": {
        "id": "ogL4gnmzxWmw"
      },
      "source": [
        "There is also a utility `plot_model` to get a graphical representation of a model. In more complex architectures, this is helpful to get a grasp on how different parts of the model are connected to each other. Since MLP is just a stack, the graphics don't really add anything new to the summary."
      ]
    },
    {
      "cell_type": "code",
      "metadata": {
        "id": "cJLWprRlm-qP",
        "colab": {
          "base_uri": "https://localhost:8080/",
          "height": 533
        },
        "outputId": "2e5f439e-6f41-4ae2-b25c-33a8a39221bd"
      },
      "source": [
        "keras.utils.plot_model(model, show_shapes=True)"
      ],
      "execution_count": 26,
      "outputs": [
        {
          "output_type": "execute_result",
          "data": {
            "image/png": "[encoded data removed]",
            "text/plain": [
              "<IPython.core.display.Image object>"
            ]
          },
          "metadata": {},
          "execution_count": 26
        }
      ]
    },
    {
      "cell_type": "markdown",
      "metadata": {
        "id": "GTEjSMJ2X-Qb"
      },
      "source": [
        "## Sidestep: Examining layers"
      ]
    },
    {
      "cell_type": "markdown",
      "metadata": {
        "id": "D69KZHCZoHu-"
      },
      "source": [
        "You might need to access the layers directly in some applications. The layers are stored as a list in `model.layers`. See https://www.tensorflow.org/api_docs/python/tf/keras/layers/Layer for all details."
      ]
    },
    {
      "cell_type": "code",
      "metadata": {
        "id": "9pwT5HYKpLRn",
        "colab": {
          "base_uri": "https://localhost:8080/"
        },
        "outputId": "68518dc6-e241-4d31-db08-1bf7ecf3a1e1"
      },
      "source": [
        "type(model.layers)"
      ],
      "execution_count": 27,
      "outputs": [
        {
          "output_type": "execute_result",
          "data": {
            "text/plain": [
              "list"
            ]
          },
          "metadata": {},
          "execution_count": 27
        }
      ]
    },
    {
      "cell_type": "code",
      "metadata": {
        "id": "Koeakw5TVa-T",
        "colab": {
          "base_uri": "https://localhost:8080/"
        },
        "outputId": "dc94286c-d40a-4707-f62d-6be8612637a1"
      },
      "source": [
        "print(*model.layers, sep='\\n')"
      ],
      "execution_count": 28,
      "outputs": [
        {
          "output_type": "stream",
          "name": "stdout",
          "text": [
            "<keras.src.layers.reshaping.flatten.Flatten object at 0x7b29e152fd60>\n",
            "<keras.src.layers.core.dense.Dense object at 0x7b29e15b8d60>\n",
            "<keras.src.layers.core.dense.Dense object at 0x7b29e15b8d00>\n",
            "<keras.src.layers.core.dense.Dense object at 0x7b29e15468c0>\n"
          ]
        }
      ]
    },
    {
      "cell_type": "markdown",
      "metadata": {
        "id": "bac15iojpkIl"
      },
      "source": [
        "All layers have also a name (string). You can specify your own names when creating a layers. If you don't, Keras uses its own internal naming scheme (as seen in the summary)."
      ]
    },
    {
      "cell_type": "code",
      "metadata": {
        "id": "FsDv1tz0Va-T",
        "colab": {
          "base_uri": "https://localhost:8080/"
        },
        "outputId": "a43200e4-c013-4e47-a23d-81baf80a2104"
      },
      "source": [
        "hidden1 = model.layers[1]\n",
        "print(hidden1.name)"
      ],
      "execution_count": 29,
      "outputs": [
        {
          "output_type": "stream",
          "name": "stdout",
          "text": [
            "dense\n"
          ]
        }
      ]
    },
    {
      "cell_type": "markdown",
      "metadata": {
        "id": "Ok6eN1ROqHgL"
      },
      "source": [
        "While you can access layers by their index, you can also access them by their name."
      ]
    },
    {
      "cell_type": "code",
      "metadata": {
        "id": "qw6VWJqnVa-T",
        "colab": {
          "base_uri": "https://localhost:8080/"
        },
        "outputId": "b91ca5ea-cacd-49ad-f0cd-f2b531e2887b"
      },
      "source": [
        "named_layer = model.get_layer(hidden1.name)\n",
        "# test that we got the same layer as when indexing with 1\n",
        "print(named_layer is hidden1)"
      ],
      "execution_count": 30,
      "outputs": [
        {
          "output_type": "stream",
          "name": "stdout",
          "text": [
            "True\n"
          ]
        }
      ]
    },
    {
      "cell_type": "markdown",
      "metadata": {
        "id": "_0xQha13qkgL"
      },
      "source": [
        "You have also access to the weights and biases of layers. Operation `get_weights` returns all parameters (weights and biases in this case) of the layer in a list. This may be a bit confusing in the start."
      ]
    },
    {
      "cell_type": "code",
      "metadata": {
        "id": "dr2flGfWVa-T",
        "colab": {
          "base_uri": "https://localhost:8080/"
        },
        "outputId": "ed634b7e-5e46-4077-ae72-891423df1c45"
      },
      "source": [
        "h1_params = hidden1.get_weights()\n",
        "print(type(h1_params))\n",
        "print(len(h1_params))"
      ],
      "execution_count": 31,
      "outputs": [
        {
          "output_type": "stream",
          "name": "stdout",
          "text": [
            "<class 'list'>\n",
            "2\n"
          ]
        }
      ]
    },
    {
      "cell_type": "markdown",
      "metadata": {
        "id": "KLzonz2LtQ7W"
      },
      "source": [
        "Let's first examine the weights. Looks like they have been initialized to small random values."
      ]
    },
    {
      "cell_type": "code",
      "metadata": {
        "id": "cnDl0dqArTeX",
        "colab": {
          "base_uri": "https://localhost:8080/"
        },
        "outputId": "312abc5b-2cff-4234-87c6-f315d45aee18"
      },
      "source": [
        "# weights are the first element\n",
        "h1_weights = h1_params[0]\n",
        "print(type(h1_weights))\n",
        "print('Weight matrix shape: ', h1_weights.shape, '\\n')\n",
        "print(h1_weights, '\\n')\n",
        "print('Weight at 0,0:', h1_weights[0,0])"
      ],
      "execution_count": 32,
      "outputs": [
        {
          "output_type": "stream",
          "name": "stdout",
          "text": [
            "<class 'numpy.ndarray'>\n",
            "Weight matrix shape:  (784, 300) \n",
            "\n",
            "[[-0.01649702 -0.03793226 -0.02710285 ...  0.028433    0.02177224\n",
            "  -0.0128735 ]\n",
            " [-0.05661838 -0.03159807  0.07037747 ...  0.00804456  0.04846548\n",
            "  -0.0706289 ]\n",
            " [ 0.04488044  0.05382685 -0.04741816 ...  0.0742539  -0.02658099\n",
            "  -0.03122657]\n",
            " ...\n",
            " [-0.02346051  0.01664311 -0.07063584 ...  0.05173653 -0.04040053\n",
            "  -0.07408515]\n",
            " [ 0.00078506  0.0559682   0.0552616  ...  0.05995877 -0.04747419\n",
            "   0.02073065]\n",
            " [ 0.05213702 -0.01743631  0.04251451 ... -0.00483952 -0.00976052\n",
            "   0.06309019]] \n",
            "\n",
            "Weight at 0,0: -0.01649702\n"
          ]
        }
      ]
    },
    {
      "cell_type": "markdown",
      "metadata": {
        "id": "BzxMmmactafI"
      },
      "source": [
        "Biases, on the other hand, have been initialized to zeros (it's ok)."
      ]
    },
    {
      "cell_type": "code",
      "metadata": {
        "id": "AAAVq-KlsN-s",
        "colab": {
          "base_uri": "https://localhost:8080/"
        },
        "outputId": "243dce24-c9d5-4c35-817a-42220ae3cf2b"
      },
      "source": [
        "# and biases are the second one\n",
        "h1_biases = h1_params[1]\n",
        "print(type(h1_biases))\n",
        "print('Bias vector shape: ', h1_biases.shape, '\\n')\n",
        "print(h1_biases, '\\n')\n",
        "print('Bias at 0:', h1_biases[0])"
      ],
      "execution_count": 33,
      "outputs": [
        {
          "output_type": "stream",
          "name": "stdout",
          "text": [
            "<class 'numpy.ndarray'>\n",
            "Bias vector shape:  (300,) \n",
            "\n",
            "[0. 0. 0. 0. 0. 0. 0. 0. 0. 0. 0. 0. 0. 0. 0. 0. 0. 0. 0. 0. 0. 0. 0. 0.\n",
            " 0. 0. 0. 0. 0. 0. 0. 0. 0. 0. 0. 0. 0. 0. 0. 0. 0. 0. 0. 0. 0. 0. 0. 0.\n",
            " 0. 0. 0. 0. 0. 0. 0. 0. 0. 0. 0. 0. 0. 0. 0. 0. 0. 0. 0. 0. 0. 0. 0. 0.\n",
            " 0. 0. 0. 0. 0. 0. 0. 0. 0. 0. 0. 0. 0. 0. 0. 0. 0. 0. 0. 0. 0. 0. 0. 0.\n",
            " 0. 0. 0. 0. 0. 0. 0. 0. 0. 0. 0. 0. 0. 0. 0. 0. 0. 0. 0. 0. 0. 0. 0. 0.\n",
            " 0. 0. 0. 0. 0. 0. 0. 0. 0. 0. 0. 0. 0. 0. 0. 0. 0. 0. 0. 0. 0. 0. 0. 0.\n",
            " 0. 0. 0. 0. 0. 0. 0. 0. 0. 0. 0. 0. 0. 0. 0. 0. 0. 0. 0. 0. 0. 0. 0. 0.\n",
            " 0. 0. 0. 0. 0. 0. 0. 0. 0. 0. 0. 0. 0. 0. 0. 0. 0. 0. 0. 0. 0. 0. 0. 0.\n",
            " 0. 0. 0. 0. 0. 0. 0. 0. 0. 0. 0. 0. 0. 0. 0. 0. 0. 0. 0. 0. 0. 0. 0. 0.\n",
            " 0. 0. 0. 0. 0. 0. 0. 0. 0. 0. 0. 0. 0. 0. 0. 0. 0. 0. 0. 0. 0. 0. 0. 0.\n",
            " 0. 0. 0. 0. 0. 0. 0. 0. 0. 0. 0. 0. 0. 0. 0. 0. 0. 0. 0. 0. 0. 0. 0. 0.\n",
            " 0. 0. 0. 0. 0. 0. 0. 0. 0. 0. 0. 0. 0. 0. 0. 0. 0. 0. 0. 0. 0. 0. 0. 0.\n",
            " 0. 0. 0. 0. 0. 0. 0. 0. 0. 0. 0. 0.] \n",
            "\n",
            "Bias at 0: 0.0\n"
          ]
        }
      ]
    },
    {
      "cell_type": "markdown",
      "metadata": {
        "id": "rg8OVpxTspLL"
      },
      "source": [
        "The values in weights and biases were initialized when the layers were created. The values seen above are the result of applying default initializers; see [`Dense`](https://www.tensorflow.org/api_docs/python/tf/keras/layers/Dense) documentation for details."
      ]
    },
    {
      "cell_type": "markdown",
      "metadata": {
        "id": "DDjfh2l8xhKQ"
      },
      "source": [
        "# Compiling the model\n",
        "\n",
        "After the model has been constructed, we \"compile\" it. In particular, we specify\n",
        "- the loss function and the optimizer to use\n",
        "- list of extra metrics to compute during training and evaluation (optional but highly useful)\n",
        "\n",
        "We use the \"sparse\" version of cross entropy, since our class targets are just numbers (sparse versions of the corresponding one-hot vector). More of this a bit later.\n",
        "\n",
        "Use [`binary_crossentropy`](https://www.tensorflow.org/api_docs/python/tf/keras/losses/binary_crossentropy) for binary classification models (which should end with a single sigmoid output unit)."
      ]
    },
    {
      "cell_type": "code",
      "metadata": {
        "id": "TgdHqqDXVa-U"
      },
      "source": [
        "# Links to API documentation\n",
        "# https://www.tensorflow.org/api_docs/python/tf/keras/losses/sparse_categorical_crossentropy\n",
        "# https://www.tensorflow.org/api_docs/python/tf/keras/optimizers/SGD\n",
        "# https://www.tensorflow.org/api_docs/python/tf/keras/metrics/sparse_categorical_accuracy\n",
        "\n",
        "# Also these have their string names but not using them\n",
        "my_loss = tf.keras.losses.sparse_categorical_crossentropy\n",
        "my_sgd  = optimizer=keras.optimizers.SGD()\n",
        "my_acc_metric = keras.metrics.sparse_categorical_accuracy\n",
        "\n",
        "model.compile(loss = my_loss,\n",
        "              optimizer = my_sgd,\n",
        "              metrics=[my_acc_metric])"
      ],
      "execution_count": 34,
      "outputs": []
    },
    {
      "cell_type": "markdown",
      "metadata": {
        "id": "6soNuFpW5vtL"
      },
      "source": [
        "# Training the model\n",
        "\n",
        "All you need to do is call the [`fit`](https://www.tensorflow.org/api_docs/python/tf/keras/Sequential#fit) method. It takes as its input\n",
        "- input features and the target classes\n",
        "- number of epochs to train (default: 1)\n",
        "- validation set (optional but strongly recommended)\n",
        "\n",
        "While training, we get progress information\n",
        "- number of instances processed\n",
        "- time per epoch and mean training time per sample\n",
        "- loss and accuracy (or any other extra metrics)\n",
        "\ton both the training set and the validation set\n"
      ]
    },
    {
      "cell_type": "code",
      "metadata": {
        "id": "YeMiCQ5cVa-V",
        "colab": {
          "base_uri": "https://localhost:8080/"
        },
        "outputId": "653d6eaa-c3ec-476e-f3cb-c84c1fefeb98"
      },
      "source": [
        "history = model.fit(X_train, y_train, epochs = 30,\n",
        "                    validation_data=(X_valid, y_valid))"
      ],
      "execution_count": 35,
      "outputs": [
        {
          "output_type": "stream",
          "name": "stdout",
          "text": [
            "Epoch 1/30\n",
            "1719/1719 [==============================] - 14s 6ms/step - loss: 0.6845 - sparse_categorical_accuracy: 0.7952 - val_loss: 0.3664 - val_sparse_categorical_accuracy: 0.8956\n",
            "Epoch 2/30\n",
            "1719/1719 [==============================] - 6s 3ms/step - loss: 0.3828 - sparse_categorical_accuracy: 0.8830 - val_loss: 0.3054 - val_sparse_categorical_accuracy: 0.9086\n",
            "Epoch 3/30\n",
            "1719/1719 [==============================] - 6s 3ms/step - loss: 0.3265 - sparse_categorical_accuracy: 0.9000 - val_loss: 0.2726 - val_sparse_categorical_accuracy: 0.9218\n",
            "Epoch 4/30\n",
            "1719/1719 [==============================] - 5s 3ms/step - loss: 0.2867 - sparse_categorical_accuracy: 0.9132 - val_loss: 0.2601 - val_sparse_categorical_accuracy: 0.9218\n",
            "Epoch 5/30\n",
            "1719/1719 [==============================] - 6s 4ms/step - loss: 0.2553 - sparse_categorical_accuracy: 0.9229 - val_loss: 0.2354 - val_sparse_categorical_accuracy: 0.9260\n",
            "Epoch 6/30\n",
            "1719/1719 [==============================] - 5s 3ms/step - loss: 0.2305 - sparse_categorical_accuracy: 0.9307 - val_loss: 0.2101 - val_sparse_categorical_accuracy: 0.9358\n",
            "Epoch 7/30\n",
            "1719/1719 [==============================] - 6s 4ms/step - loss: 0.2085 - sparse_categorical_accuracy: 0.9374 - val_loss: 0.1785 - val_sparse_categorical_accuracy: 0.9474\n",
            "Epoch 8/30\n",
            "1719/1719 [==============================] - 5s 3ms/step - loss: 0.1912 - sparse_categorical_accuracy: 0.9428 - val_loss: 0.2695 - val_sparse_categorical_accuracy: 0.9130\n",
            "Epoch 9/30\n",
            "1719/1719 [==============================] - 6s 3ms/step - loss: 0.1767 - sparse_categorical_accuracy: 0.9470 - val_loss: 0.1584 - val_sparse_categorical_accuracy: 0.9528\n",
            "Epoch 10/30\n",
            "1719/1719 [==============================] - 6s 3ms/step - loss: 0.1659 - sparse_categorical_accuracy: 0.9501 - val_loss: 0.1527 - val_sparse_categorical_accuracy: 0.9548\n",
            "Epoch 11/30\n",
            "1719/1719 [==============================] - 5s 3ms/step - loss: 0.1540 - sparse_categorical_accuracy: 0.9539 - val_loss: 0.1518 - val_sparse_categorical_accuracy: 0.9566\n",
            "Epoch 12/30\n",
            "1719/1719 [==============================] - 6s 3ms/step - loss: 0.1440 - sparse_categorical_accuracy: 0.9561 - val_loss: 0.1550 - val_sparse_categorical_accuracy: 0.9484\n",
            "Epoch 13/30\n",
            "1719/1719 [==============================] - 5s 3ms/step - loss: 0.1376 - sparse_categorical_accuracy: 0.9587 - val_loss: 0.1303 - val_sparse_categorical_accuracy: 0.9624\n",
            "Epoch 14/30\n",
            "1719/1719 [==============================] - 6s 4ms/step - loss: 0.1302 - sparse_categorical_accuracy: 0.9606 - val_loss: 0.1396 - val_sparse_categorical_accuracy: 0.9562\n",
            "Epoch 15/30\n",
            "1719/1719 [==============================] - 5s 3ms/step - loss: 0.1231 - sparse_categorical_accuracy: 0.9626 - val_loss: 0.1260 - val_sparse_categorical_accuracy: 0.9630\n",
            "Epoch 16/30\n",
            "1719/1719 [==============================] - 8s 4ms/step - loss: 0.1155 - sparse_categorical_accuracy: 0.9657 - val_loss: 0.1116 - val_sparse_categorical_accuracy: 0.9662\n",
            "Epoch 17/30\n",
            "1719/1719 [==============================] - 6s 3ms/step - loss: 0.1113 - sparse_categorical_accuracy: 0.9667 - val_loss: 0.1260 - val_sparse_categorical_accuracy: 0.9642\n",
            "Epoch 18/30\n",
            "1719/1719 [==============================] - 7s 4ms/step - loss: 0.1061 - sparse_categorical_accuracy: 0.9674 - val_loss: 0.1098 - val_sparse_categorical_accuracy: 0.9698\n",
            "Epoch 19/30\n",
            "1719/1719 [==============================] - 5s 3ms/step - loss: 0.1022 - sparse_categorical_accuracy: 0.9695 - val_loss: 0.1055 - val_sparse_categorical_accuracy: 0.9676\n",
            "Epoch 20/30\n",
            "1719/1719 [==============================] - 5s 3ms/step - loss: 0.0969 - sparse_categorical_accuracy: 0.9703 - val_loss: 0.1077 - val_sparse_categorical_accuracy: 0.9662\n",
            "Epoch 21/30\n",
            "1719/1719 [==============================] - 6s 3ms/step - loss: 0.0935 - sparse_categorical_accuracy: 0.9713 - val_loss: 0.1009 - val_sparse_categorical_accuracy: 0.9680\n",
            "Epoch 22/30\n",
            "1719/1719 [==============================] - 5s 3ms/step - loss: 0.0895 - sparse_categorical_accuracy: 0.9726 - val_loss: 0.0988 - val_sparse_categorical_accuracy: 0.9706\n",
            "Epoch 23/30\n",
            "1719/1719 [==============================] - 6s 4ms/step - loss: 0.0871 - sparse_categorical_accuracy: 0.9733 - val_loss: 0.0989 - val_sparse_categorical_accuracy: 0.9708\n",
            "Epoch 24/30\n",
            "1719/1719 [==============================] - 5s 3ms/step - loss: 0.0827 - sparse_categorical_accuracy: 0.9743 - val_loss: 0.0987 - val_sparse_categorical_accuracy: 0.9716\n",
            "Epoch 25/30\n",
            "1719/1719 [==============================] - 6s 4ms/step - loss: 0.0799 - sparse_categorical_accuracy: 0.9753 - val_loss: 0.0960 - val_sparse_categorical_accuracy: 0.9712\n",
            "Epoch 26/30\n",
            "1719/1719 [==============================] - 5s 3ms/step - loss: 0.0771 - sparse_categorical_accuracy: 0.9764 - val_loss: 0.0909 - val_sparse_categorical_accuracy: 0.9734\n",
            "Epoch 27/30\n",
            "1719/1719 [==============================] - 6s 3ms/step - loss: 0.0742 - sparse_categorical_accuracy: 0.9774 - val_loss: 0.0974 - val_sparse_categorical_accuracy: 0.9692\n",
            "Epoch 28/30\n",
            "1719/1719 [==============================] - 6s 3ms/step - loss: 0.0716 - sparse_categorical_accuracy: 0.9778 - val_loss: 0.0906 - val_sparse_categorical_accuracy: 0.9740\n",
            "Epoch 29/30\n",
            "1719/1719 [==============================] - 5s 3ms/step - loss: 0.0686 - sparse_categorical_accuracy: 0.9790 - val_loss: 0.0957 - val_sparse_categorical_accuracy: 0.9704\n",
            "Epoch 30/30\n",
            "1719/1719 [==============================] - 6s 4ms/step - loss: 0.0666 - sparse_categorical_accuracy: 0.9799 - val_loss: 0.1104 - val_sparse_categorical_accuracy: 0.9658\n"
          ]
        }
      ]
    },
    {
      "cell_type": "markdown",
      "metadata": {
        "id": "rdsrkkF2-FQI"
      },
      "source": [
        "## Sidestep: \"sparse labels\""
      ]
    },
    {
      "cell_type": "markdown",
      "metadata": {
        "id": "OR9hhLoN1o0c"
      },
      "source": [
        "We used the \"sparse\" version of cross entropy, since we didn't \"one-hot\" code our class target values (they are just numbers). Keras offers `to_categorical` utility, should you want to go this way."
      ]
    },
    {
      "cell_type": "code",
      "metadata": {
        "id": "PPew5o2Y1x5l"
      },
      "source": [
        "y_train_hot = keras.utils.to_categorical(y_train)\n",
        "y_valid_hot = keras.utils.to_categorical(y_valid)\n",
        "y_test_hot  = keras.utils.to_categorical(y_test)"
      ],
      "execution_count": 36,
      "outputs": []
    },
    {
      "cell_type": "code",
      "metadata": {
        "id": "Mh6sN-_L15Sf",
        "colab": {
          "base_uri": "https://localhost:8080/"
        },
        "outputId": "d9443db5-6047-4556-b22b-0d1ce154f946"
      },
      "source": [
        "print(y_train_hot.shape)\n",
        "print(y_train_hot[0])"
      ],
      "execution_count": 37,
      "outputs": [
        {
          "output_type": "stream",
          "name": "stdout",
          "text": [
            "(55000, 10)\n",
            "[0. 0. 0. 0. 0. 0. 0. 1. 0. 0.]\n"
          ]
        }
      ]
    },
    {
      "cell_type": "markdown",
      "metadata": {
        "id": "zo-7xhmD2f-u"
      },
      "source": [
        "If needed, you can easily map one-hot vectors to their sparse versions:"
      ]
    },
    {
      "cell_type": "code",
      "metadata": {
        "id": "U21MjKQ02ogV"
      },
      "source": [
        "# converts the whole tensor, argmax is applied on the entries in the second axis (our one-hot vectors)\n",
        "sparse_labels = np.argmax(y_train_hot, axis=1)"
      ],
      "execution_count": 38,
      "outputs": []
    },
    {
      "cell_type": "code",
      "metadata": {
        "id": "M4VcXgdU26CI",
        "colab": {
          "base_uri": "https://localhost:8080/"
        },
        "outputId": "ffb42371-35e4-46e7-8696-91d307eed9fe"
      },
      "source": [
        "print(sparse_labels.shape)\n",
        "print(sparse_labels[0])"
      ],
      "execution_count": 39,
      "outputs": [
        {
          "output_type": "stream",
          "name": "stdout",
          "text": [
            "(55000,)\n",
            "7\n"
          ]
        }
      ]
    },
    {
      "cell_type": "markdown",
      "metadata": {
        "id": "tgiVTNr42DnJ"
      },
      "source": [
        "You then use the one-hot coded labels as the training targets and the (standard) categorical cross entropy as the loss. Everything else is the same."
      ]
    },
    {
      "cell_type": "code",
      "metadata": {
        "id": "1kzEGVGRbeAE"
      },
      "source": [
        "# we create a new fresh model for training\n",
        "# otherwise fit would continue from the weights already trained by the precious rounds (try this out)\n",
        "free_memory()\n",
        "model = create_MLP()"
      ],
      "execution_count": 40,
      "outputs": []
    },
    {
      "cell_type": "code",
      "metadata": {
        "id": "cjxjjD0R3Xqq"
      },
      "source": [
        "my_loss = tf.keras.losses.CategoricalCrossentropy()\n",
        "my_sgd  = optimizer=keras.optimizers.SGD()\n",
        "my_acc_metric = keras.metrics.categorical_accuracy\n",
        "\n",
        "model.compile(loss = my_loss,\n",
        "              optimizer = my_sgd,\n",
        "              metrics=[my_acc_metric])"
      ],
      "execution_count": 41,
      "outputs": []
    },
    {
      "cell_type": "code",
      "metadata": {
        "id": "7vgm_WhV3voo",
        "colab": {
          "base_uri": "https://localhost:8080/"
        },
        "outputId": "ee87de19-491a-43a6-ad58-a01139fe49f0"
      },
      "source": [
        "history = model.fit(X_train, y_train_hot, epochs=30,\n",
        "                    validation_data=(X_valid, y_valid_hot))"
      ],
      "execution_count": 42,
      "outputs": [
        {
          "output_type": "stream",
          "name": "stdout",
          "text": [
            "Epoch 1/30\n",
            "1719/1719 [==============================] - 6s 3ms/step - loss: 0.7004 - categorical_accuracy: 0.7925 - val_loss: 0.3643 - val_categorical_accuracy: 0.8950\n",
            "Epoch 2/30\n",
            "1719/1719 [==============================] - 6s 4ms/step - loss: 0.3881 - categorical_accuracy: 0.8829 - val_loss: 0.2999 - val_categorical_accuracy: 0.9122\n",
            "Epoch 3/30\n",
            "1719/1719 [==============================] - 6s 3ms/step - loss: 0.3329 - categorical_accuracy: 0.8988 - val_loss: 0.2735 - val_categorical_accuracy: 0.9220\n",
            "Epoch 4/30\n",
            "1719/1719 [==============================] - 6s 4ms/step - loss: 0.2941 - categorical_accuracy: 0.9120 - val_loss: 0.2680 - val_categorical_accuracy: 0.9160\n",
            "Epoch 5/30\n",
            "1719/1719 [==============================] - 6s 3ms/step - loss: 0.2627 - categorical_accuracy: 0.9212 - val_loss: 0.2338 - val_categorical_accuracy: 0.9288\n",
            "Epoch 6/30\n",
            "1719/1719 [==============================] - 6s 4ms/step - loss: 0.2359 - categorical_accuracy: 0.9295 - val_loss: 0.2075 - val_categorical_accuracy: 0.9376\n",
            "Epoch 7/30\n",
            "1719/1719 [==============================] - 6s 3ms/step - loss: 0.2129 - categorical_accuracy: 0.9367 - val_loss: 0.1801 - val_categorical_accuracy: 0.9462\n",
            "Epoch 8/30\n",
            "1719/1719 [==============================] - 6s 3ms/step - loss: 0.1949 - categorical_accuracy: 0.9419 - val_loss: 0.2691 - val_categorical_accuracy: 0.9114\n",
            "Epoch 9/30\n",
            "1719/1719 [==============================] - 6s 3ms/step - loss: 0.1797 - categorical_accuracy: 0.9465 - val_loss: 0.1584 - val_categorical_accuracy: 0.9546\n",
            "Epoch 10/30\n",
            "1719/1719 [==============================] - 6s 3ms/step - loss: 0.1675 - categorical_accuracy: 0.9497 - val_loss: 0.1495 - val_categorical_accuracy: 0.9562\n",
            "Epoch 11/30\n",
            "1719/1719 [==============================] - 6s 4ms/step - loss: 0.1549 - categorical_accuracy: 0.9532 - val_loss: 0.1633 - val_categorical_accuracy: 0.9534\n",
            "Epoch 12/30\n",
            "1719/1719 [==============================] - 6s 3ms/step - loss: 0.1451 - categorical_accuracy: 0.9570 - val_loss: 0.1543 - val_categorical_accuracy: 0.9514\n",
            "Epoch 13/30\n",
            "1719/1719 [==============================] - 6s 4ms/step - loss: 0.1371 - categorical_accuracy: 0.9590 - val_loss: 0.1465 - val_categorical_accuracy: 0.9578\n",
            "Epoch 14/30\n",
            "1719/1719 [==============================] - 6s 3ms/step - loss: 0.1297 - categorical_accuracy: 0.9609 - val_loss: 0.1369 - val_categorical_accuracy: 0.9570\n",
            "Epoch 15/30\n",
            "1719/1719 [==============================] - 6s 4ms/step - loss: 0.1221 - categorical_accuracy: 0.9629 - val_loss: 0.1318 - val_categorical_accuracy: 0.9620\n",
            "Epoch 16/30\n",
            "1719/1719 [==============================] - 6s 3ms/step - loss: 0.1157 - categorical_accuracy: 0.9654 - val_loss: 0.1180 - val_categorical_accuracy: 0.9640\n",
            "Epoch 17/30\n",
            "1719/1719 [==============================] - 7s 4ms/step - loss: 0.1100 - categorical_accuracy: 0.9670 - val_loss: 0.1371 - val_categorical_accuracy: 0.9612\n",
            "Epoch 18/30\n",
            "1719/1719 [==============================] - 7s 4ms/step - loss: 0.1054 - categorical_accuracy: 0.9683 - val_loss: 0.1114 - val_categorical_accuracy: 0.9674\n",
            "Epoch 19/30\n",
            "1719/1719 [==============================] - 6s 4ms/step - loss: 0.1011 - categorical_accuracy: 0.9694 - val_loss: 0.1043 - val_categorical_accuracy: 0.9692\n",
            "Epoch 20/30\n",
            "1719/1719 [==============================] - 6s 3ms/step - loss: 0.0966 - categorical_accuracy: 0.9704 - val_loss: 0.1101 - val_categorical_accuracy: 0.9668\n",
            "Epoch 21/30\n",
            "1719/1719 [==============================] - 6s 4ms/step - loss: 0.0924 - categorical_accuracy: 0.9725 - val_loss: 0.0995 - val_categorical_accuracy: 0.9714\n",
            "Epoch 22/30\n",
            "1719/1719 [==============================] - 6s 3ms/step - loss: 0.0882 - categorical_accuracy: 0.9728 - val_loss: 0.0992 - val_categorical_accuracy: 0.9708\n",
            "Epoch 23/30\n",
            "1719/1719 [==============================] - 6s 3ms/step - loss: 0.0856 - categorical_accuracy: 0.9738 - val_loss: 0.1043 - val_categorical_accuracy: 0.9698\n",
            "Epoch 24/30\n",
            "1719/1719 [==============================] - 6s 4ms/step - loss: 0.0814 - categorical_accuracy: 0.9753 - val_loss: 0.0963 - val_categorical_accuracy: 0.9730\n",
            "Epoch 25/30\n",
            "1719/1719 [==============================] - 6s 3ms/step - loss: 0.0790 - categorical_accuracy: 0.9759 - val_loss: 0.0919 - val_categorical_accuracy: 0.9722\n",
            "Epoch 26/30\n",
            "1719/1719 [==============================] - 6s 4ms/step - loss: 0.0758 - categorical_accuracy: 0.9768 - val_loss: 0.0918 - val_categorical_accuracy: 0.9726\n",
            "Epoch 27/30\n",
            "1719/1719 [==============================] - 5s 3ms/step - loss: 0.0733 - categorical_accuracy: 0.9777 - val_loss: 0.0915 - val_categorical_accuracy: 0.9744\n",
            "Epoch 28/30\n",
            "1719/1719 [==============================] - 6s 4ms/step - loss: 0.0701 - categorical_accuracy: 0.9787 - val_loss: 0.0947 - val_categorical_accuracy: 0.9712\n",
            "Epoch 29/30\n",
            "1719/1719 [==============================] - 6s 3ms/step - loss: 0.0679 - categorical_accuracy: 0.9791 - val_loss: 0.0983 - val_categorical_accuracy: 0.9734\n",
            "Epoch 30/30\n",
            "1719/1719 [==============================] - 6s 4ms/step - loss: 0.0650 - categorical_accuracy: 0.9799 - val_loss: 0.1272 - val_categorical_accuracy: 0.9622\n"
          ]
        }
      ]
    },
    {
      "cell_type": "markdown",
      "metadata": {
        "id": "Fhz-jUgNhU-H"
      },
      "source": [
        "## Sidestep: Weighting classes and examples\n",
        "\n",
        "Sometimes there are lots of examples from some classes and less examples from some other classes. Since the (default) loss is simply the mean of all individual losses, the model may \"specialize\" it to fit the frequent classes.\n",
        "\n",
        "To avoid this, you can use the `class_weight` argument when training your model. Give a larger weight to underrepresented classes and a lower weight to overrepresented classes. One possible way is to set the class weights related to the inverses of class frequencies. The loss function then multiplies the individual losses using these weights.\n",
        "\n",
        "Your examples may also vary in their trustworthiness. For example, some labels might be given by domain experts and some by crowdsourcing. You can specify a weight for each training (and validation) instance with the `sample_weight` argument.\n",
        "\n",
        "If both `class_weight` and `sample_weight` are given, they are multiplied in loss computations. See [`fit` documentation](https://www.tensorflow.org/api_docs/python/tf/keras/Sequential#fit) for details."
      ]
    },
    {
      "cell_type": "markdown",
      "metadata": {
        "id": "QEnsTx9d-sRj"
      },
      "source": [
        "# Examining training history"
      ]
    },
    {
      "cell_type": "markdown",
      "metadata": {
        "id": "nBsoTxBV8BwG"
      },
      "source": [
        "The output of `fit` is a `History` object, which is very useful for analysing the training process (more of this later). In particular, `history.history` (stupid name) is a Python dictionary recording all the metrics values fit reported while training."
      ]
    },
    {
      "cell_type": "code",
      "metadata": {
        "id": "VtDT9a_I8D3C",
        "colab": {
          "base_uri": "https://localhost:8080/"
        },
        "outputId": "c5ab0697-e380-40dc-b71f-3f544aa72eb8"
      },
      "source": [
        "hist_params = history.params\n",
        "# sometimes you continue from a previous run (so epoch numbers don't always start from 0)\n",
        "hist_epochs = history.epoch\n",
        "hist_data = history.history\n",
        "\n",
        "print(hist_params)\n",
        "print(hist_epochs)\n",
        "print(hist_data.keys())"
      ],
      "execution_count": 43,
      "outputs": [
        {
          "output_type": "stream",
          "name": "stdout",
          "text": [
            "{'verbose': 1, 'epochs': 30, 'steps': 1719}\n",
            "[0, 1, 2, 3, 4, 5, 6, 7, 8, 9, 10, 11, 12, 13, 14, 15, 16, 17, 18, 19, 20, 21, 22, 23, 24, 25, 26, 27, 28, 29]\n",
            "dict_keys(['loss', 'categorical_accuracy', 'val_loss', 'val_categorical_accuracy'])\n"
          ]
        }
      ]
    },
    {
      "cell_type": "markdown",
      "metadata": {
        "id": "856PiHLneUbQ"
      },
      "source": [
        "Below is a typical matplotlib plot of the history data (layout could be improved)."
      ]
    },
    {
      "cell_type": "code",
      "metadata": {
        "id": "sMHIKKpyAgHG",
        "colab": {
          "base_uri": "https://localhost:8080/",
          "height": 481
        },
        "outputId": "b45d9495-a8a3-4cef-b970-8d7453af9c47"
      },
      "source": [
        "# select which data you want to plot (we select all of them here)\n",
        "plt.plot(hist_data['loss'], label='Loss (training)')\n",
        "plt.plot(hist_data['val_loss'], label='Loss (validation)')\n",
        "plt.plot(hist_data['categorical_accuracy'], label='Accuracy (training)')\n",
        "plt.plot(hist_data['val_categorical_accuracy'], label='Accuracy (validation)')\n",
        "\n",
        "plt.title('Loss values')\n",
        "plt.ylabel('Cross entropy')\n",
        "plt.xlabel('Epoch')\n",
        "plt.legend(loc=\"upper left\")\n",
        "# You can comment this off if %matplotlib inline has been used\n",
        "plt.show()"
      ],
      "execution_count": 44,
      "outputs": [
        {
          "output_type": "display_data",
          "data": {
            "text/plain": [
              "<Figure size 640x480 with 1 Axes>"
            ],
            "image/png": "[encoded data removed]"
          },
          "metadata": {}
        }
      ]
    },
    {
      "cell_type": "markdown",
      "metadata": {
        "id": "OEjToVXiBQ5P"
      },
      "source": [
        "If you are familiar with Python data analysis library [`pandas`](https://pandas.pydata.org/), you can do the same in a much more compact way (and the default layout is better, too) by making use of [`DataFrame`](https://pandas.pydata.org/docs/user_guide/dsintro.html#dataframe)."
      ]
    },
    {
      "cell_type": "code",
      "metadata": {
        "id": "m4VQaWgYVa-W",
        "colab": {
          "base_uri": "https://localhost:8080/",
          "height": 456
        },
        "outputId": "9241b941-781a-4ba7-d527-e2115acdd71e"
      },
      "source": [
        "import pandas as pd\n",
        "\n",
        "pd.DataFrame(hist_data).plot(figsize=(8, 5))\n",
        "plt.grid(True)\n",
        "plt.gca().set_ylim(0, 1)\n",
        "plt.show()"
      ],
      "execution_count": 45,
      "outputs": [
        {
          "output_type": "display_data",
          "data": {
            "text/plain": [
              "<Figure size 800x500 with 1 Axes>"
            ],
            "image/png": "[encoded data removed]"
          },
          "metadata": {}
        }
      ]
    },
    {
      "cell_type": "markdown",
      "metadata": {
        "id": "Wi1RDJqjkoR7"
      },
      "source": [
        "We see from the plots that both the training accuracy and the validation accuracy steadily increase during training, while the training loss and the validation loss decrease. The validation curves are close to the training curves, which means that there is not too much overfitting.\n",
        "\n",
        "You can tell that the model has not quite converged yet, as the validation loss is still going down, so you should probably continue training (by calling the `fit()` method again).\n",
        "\n",
        "It may look strange that validation accuracy is better than training accuracy in the start of the training. This is because the training accuracy is a mean of all minibatch accuracies of the epoch, while the validation accuracy (and loss) is computed at the end of the epoch. Training losses are large in the beginning since weights were just random numbers, which leads to larger mean losses.\n",
        "\n",
        "For more comparable results, you can shift the training curve to the left by half an epoch in the plots. However, this difference should vanish after a few training epochs."
      ]
    },
    {
      "cell_type": "markdown",
      "metadata": {
        "id": "U57meGY8cwaO"
      },
      "source": [
        "*Best practise:* plot the history curves after training. Find the \"sweet spot\" where validation loss/accuracy stops improving. In hyperparameter tuning, look for the best such validation accuracies. (There are automatic tools for both of these tasks)"
      ]
    },
    {
      "cell_type": "markdown",
      "metadata": {
        "id": "H3rmTT1SoRtK"
      },
      "source": [
        "## Few words about hyperparameter tuning\n",
        "\n",
        "If the model isn't performing well enough, what can we tune?\n",
        "- learning rate (always retune it after changing any other hyperparameter)\n",
        "- another optimizer\n",
        "- model hyperparameters (number of layers, neurons per layer, activation functions in hidden layers)\n",
        "\n",
        "Real-world applications typically use a *schedule* for the learning rate. Keras offers some simple [`schedules`](https://www.tensorflow.org/api_docs/python/tf/keras/optimizers/schedules) and a customizabe [`LearningRateSchedule`](LearningRateSchedule), but you can go even more custom by defining your own \"callbacks\" (things that are called after each batch or epoch; more about them later).\n"
      ]
    },
    {
      "cell_type": "markdown",
      "metadata": {
        "id": "ynO53ErSC3rB"
      },
      "source": [
        "# Evaluating the model"
      ]
    },
    {
      "cell_type": "markdown",
      "metadata": {
        "id": "pkFKtRJynSr4"
      },
      "source": [
        "Our model (with best hyperparameters) has now been trained and we can evaluate it on the test set to estimate the *generalization error*."
      ]
    },
    {
      "cell_type": "code",
      "metadata": {
        "id": "6CIO5JRiVa-W",
        "colab": {
          "base_uri": "https://localhost:8080/"
        },
        "outputId": "9effb523-2a16-458e-bf40-8a7533e95377"
      },
      "source": [
        "#For comparision: accuracies after 30 epochs: 92.06% train, 88.56% val\n",
        "# use the one you trained your model with\n",
        "model.evaluate(X_test, y_test_hot)\n",
        "\n",
        "# model.evaluate(X_test, y_test)"
      ],
      "execution_count": 46,
      "outputs": [
        {
          "output_type": "stream",
          "name": "stdout",
          "text": [
            "313/313 [==============================] - 1s 2ms/step - loss: 0.1360 - categorical_accuracy: 0.9574\n"
          ]
        },
        {
          "output_type": "execute_result",
          "data": {
            "text/plain": [
              "[0.13604341447353363, 0.9574000239372253]"
            ]
          },
          "metadata": {},
          "execution_count": 46
        }
      ]
    },
    {
      "cell_type": "markdown",
      "metadata": {
        "id": "snN2X55Qqzae"
      },
      "source": [
        "It is expected to get slightly lower performance on the test set\n",
        "than on the validation set, since the hyperparameters were tuned on the validation set, not the test set."
      ]
    },
    {
      "cell_type": "markdown",
      "metadata": {
        "id": "xipc69pRqobD"
      },
      "source": [
        "# Using the model\n",
        "\n",
        "We decided that the performance of our model on the test set was acceptable and we can start using it in some application to make predictions for new examples.\n",
        "\n",
        "Since we don't have any, let's just re-use the test data."
      ]
    },
    {
      "cell_type": "code",
      "metadata": {
        "id": "7YaOKhSRVa-W",
        "colab": {
          "base_uri": "https://localhost:8080/"
        },
        "outputId": "7c6bc2ff-5b47-4b9a-ef60-1aab7e70ae2d"
      },
      "source": [
        "X_new = X_test[:3]\n",
        "y_proba = model.predict(X_new)\n"
      ],
      "execution_count": 47,
      "outputs": [
        {
          "output_type": "stream",
          "name": "stdout",
          "text": [
            "1/1 [==============================] - 0s 75ms/step\n"
          ]
        }
      ]
    },
    {
      "cell_type": "markdown",
      "metadata": {
        "id": "FA1SH5VCrdw4"
      },
      "source": [
        "The model output consists of 10 probabilities, one for each class:"
      ]
    },
    {
      "cell_type": "code",
      "metadata": {
        "id": "3XC08KGJrkuh",
        "colab": {
          "base_uri": "https://localhost:8080/"
        },
        "outputId": "3563b44a-bb46-424e-8c71-37c58d98f384"
      },
      "source": [
        "print(y_proba.round(2))"
      ],
      "execution_count": 48,
      "outputs": [
        {
          "output_type": "stream",
          "name": "stdout",
          "text": [
            "[[0. 0. 0. 0. 0. 0. 0. 1. 0. 0.]\n",
            " [0. 0. 1. 0. 0. 0. 0. 0. 0. 0.]\n",
            " [0. 1. 0. 0. 0. 0. 0. 0. 0. 0.]]\n"
          ]
        }
      ]
    },
    {
      "cell_type": "markdown",
      "metadata": {
        "id": "PQ4oAOQzrs7d"
      },
      "source": [
        "It looks like the first example has class 9, second class 2 and third one class 1. We can use `argmax` to pick these indexes."
      ]
    },
    {
      "cell_type": "code",
      "metadata": {
        "id": "V3avTLNgsIcJ",
        "colab": {
          "base_uri": "https://localhost:8080/"
        },
        "outputId": "18b9b9ad-7a93-46be-edbf-c33e825e5bb1"
      },
      "source": [
        "y_pred = np.argmax(y_proba, axis=-1)\n",
        "print(y_pred)"
      ],
      "execution_count": 49,
      "outputs": [
        {
          "output_type": "stream",
          "name": "stdout",
          "text": [
            "[7 2 1]\n"
          ]
        }
      ]
    },
    {
      "cell_type": "markdown",
      "metadata": {
        "id": "YUh9W62Ksinc"
      },
      "source": [
        "Let's see what were the corresponding ground truths (correct answers)."
      ]
    },
    {
      "cell_type": "code",
      "metadata": {
        "id": "WXaDkQKZsoQv",
        "colab": {
          "base_uri": "https://localhost:8080/"
        },
        "outputId": "3bdcc4fc-3a3c-4a15-80fe-597f08c9e3c4"
      },
      "source": [
        "y_new = y_test[:3]\n",
        "print(y_new)"
      ],
      "execution_count": 50,
      "outputs": [
        {
          "output_type": "stream",
          "name": "stdout",
          "text": [
            "[7 2 1]\n"
          ]
        }
      ]
    },
    {
      "cell_type": "markdown",
      "metadata": {
        "id": "xskgwfsGsvXT"
      },
      "source": [
        "Finally, we decode the class names to make them readable for humans."
      ]
    },
    {
      "cell_type": "code",
      "metadata": {
        "id": "XKuuz8OsVa-X",
        "colab": {
          "base_uri": "https://localhost:8080/"
        },
        "outputId": "7bc7ee2d-68fb-4f52-e34d-cf207ca376ce"
      },
      "source": [
        "print(np.array(class_names)[y_pred])"
      ],
      "execution_count": 51,
      "outputs": [
        {
          "output_type": "stream",
          "name": "stdout",
          "text": [
            "['Sneaker' 'Pullover' 'Trousers']\n"
          ]
        }
      ]
    },
    {
      "cell_type": "markdown",
      "metadata": {
        "id": "x4rkVQ6_ujYL"
      },
      "source": [
        "# Summary\n",
        "\n",
        "Below is the collected code for the main steps of training a network."
      ]
    },
    {
      "cell_type": "code",
      "metadata": {
        "id": "D8fOoFVRvk_X"
      },
      "source": [
        "free_memory()"
      ],
      "execution_count": 52,
      "outputs": []
    },
    {
      "cell_type": "code",
      "metadata": {
        "id": "yJnx2Dq9we1N",
        "colab": {
          "base_uri": "https://localhost:8080/"
        },
        "outputId": "46685d9d-fbf6-4bf4-b420-22b9ccae9583"
      },
      "source": [
        "# Load data (in this case all of it fits in the memory)\n",
        "(X_train_full, y_train_full), (X_test, y_test) = keras.datasets.fashion_mnist.load_data()"
      ],
      "execution_count": 53,
      "outputs": [
        {
          "output_type": "stream",
          "name": "stdout",
          "text": [
            "Downloading data from https://storage.googleapis.com/tensorflow/tf-keras-datasets/train-labels-idx1-ubyte.gz\n",
            "29515/29515 [==============================] - 0s 1us/step\n",
            "Downloading data from https://storage.googleapis.com/tensorflow/tf-keras-datasets/train-images-idx3-ubyte.gz\n",
            "26421880/26421880 [==============================] - 3s 0us/step\n",
            "Downloading data from https://storage.googleapis.com/tensorflow/tf-keras-datasets/t10k-labels-idx1-ubyte.gz\n",
            "5148/5148 [==============================] - 0s 0us/step\n",
            "Downloading data from https://storage.googleapis.com/tensorflow/tf-keras-datasets/t10k-images-idx3-ubyte.gz\n",
            "4422102/4422102 [==============================] - 1s 0us/step\n"
          ]
        }
      ]
    },
    {
      "cell_type": "code",
      "metadata": {
        "id": "J8_SXtJXwh1U"
      },
      "source": [
        "# Create a validation set (if needed)\n",
        "# Preprocess the data (if needed, here just simple scaling)\n",
        "X_valid, X_train = X_train_full[:5000] / 255., X_train_full[5000:] / 255.\n",
        "y_valid, y_train = y_train_full[:5000], y_train_full[5000:]\n",
        "X_test = X_test / 255."
      ],
      "execution_count": 54,
      "outputs": []
    },
    {
      "cell_type": "code",
      "metadata": {
        "id": "LYq6JuHmwmLn"
      },
      "source": [
        "# create model\n",
        "model = keras.models.Sequential([\n",
        "    keras.layers.Flatten(input_shape = (28, 28)),\n",
        "    keras.layers.Dense(300, activation = keras.activations.relu),\n",
        "    keras.layers.Dense(100, activation = keras.activations.relu),\n",
        "    keras.layers.Dense(10,  activation = keras.activations.softmax)\n",
        "])"
      ],
      "execution_count": 55,
      "outputs": []
    },
    {
      "cell_type": "code",
      "metadata": {
        "id": "wOZVDmyyuvFu"
      },
      "source": [
        "# compile the model\n",
        "model.compile(loss = tf.keras.losses.SparseCategoricalCrossentropy(),\n",
        "              optimizer = keras.optimizers.SGD(),\n",
        "              metrics=[keras.metrics.sparse_categorical_accuracy])"
      ],
      "execution_count": 56,
      "outputs": []
    },
    {
      "cell_type": "code",
      "metadata": {
        "id": "EIEwIL3JwSD8",
        "colab": {
          "base_uri": "https://localhost:8080/"
        },
        "outputId": "7cc435c0-0c36-425f-b02b-b12929f02bbd"
      },
      "source": [
        "# train the model\n",
        "history = model.fit(X_train, y_train, epochs = 30, validation_data=(X_valid, y_valid))"
      ],
      "execution_count": 57,
      "outputs": [
        {
          "output_type": "stream",
          "name": "stdout",
          "text": [
            "Epoch 1/30\n",
            "1719/1719 [==============================] - 7s 4ms/step - loss: 0.7331 - sparse_categorical_accuracy: 0.7559 - val_loss: 0.5270 - val_sparse_categorical_accuracy: 0.8198\n",
            "Epoch 2/30\n",
            "1719/1719 [==============================] - 5s 3ms/step - loss: 0.4882 - sparse_categorical_accuracy: 0.8288 - val_loss: 0.4412 - val_sparse_categorical_accuracy: 0.8488\n",
            "Epoch 3/30\n",
            "1719/1719 [==============================] - 6s 4ms/step - loss: 0.4416 - sparse_categorical_accuracy: 0.8437 - val_loss: 0.5263 - val_sparse_categorical_accuracy: 0.8014\n",
            "Epoch 4/30\n",
            "1719/1719 [==============================] - 5s 3ms/step - loss: 0.4144 - sparse_categorical_accuracy: 0.8546 - val_loss: 0.3970 - val_sparse_categorical_accuracy: 0.8630\n",
            "Epoch 5/30\n",
            "1719/1719 [==============================] - 6s 4ms/step - loss: 0.3951 - sparse_categorical_accuracy: 0.8609 - val_loss: 0.3799 - val_sparse_categorical_accuracy: 0.8702\n",
            "Epoch 6/30\n",
            "1719/1719 [==============================] - 5s 3ms/step - loss: 0.3766 - sparse_categorical_accuracy: 0.8666 - val_loss: 0.3728 - val_sparse_categorical_accuracy: 0.8728\n",
            "Epoch 7/30\n",
            "1719/1719 [==============================] - 5s 3ms/step - loss: 0.3640 - sparse_categorical_accuracy: 0.8706 - val_loss: 0.3646 - val_sparse_categorical_accuracy: 0.8748\n",
            "Epoch 8/30\n",
            "1719/1719 [==============================] - 6s 4ms/step - loss: 0.3527 - sparse_categorical_accuracy: 0.8745 - val_loss: 0.4023 - val_sparse_categorical_accuracy: 0.8554\n",
            "Epoch 9/30\n",
            "1719/1719 [==============================] - 6s 3ms/step - loss: 0.3421 - sparse_categorical_accuracy: 0.8782 - val_loss: 0.3527 - val_sparse_categorical_accuracy: 0.8754\n",
            "Epoch 10/30\n",
            "1719/1719 [==============================] - 6s 4ms/step - loss: 0.3334 - sparse_categorical_accuracy: 0.8804 - val_loss: 0.3527 - val_sparse_categorical_accuracy: 0.8762\n",
            "Epoch 11/30\n",
            "1719/1719 [==============================] - 5s 3ms/step - loss: 0.3251 - sparse_categorical_accuracy: 0.8834 - val_loss: 0.3528 - val_sparse_categorical_accuracy: 0.8768\n",
            "Epoch 12/30\n",
            "1719/1719 [==============================] - 6s 4ms/step - loss: 0.3164 - sparse_categorical_accuracy: 0.8858 - val_loss: 0.3327 - val_sparse_categorical_accuracy: 0.8842\n",
            "Epoch 13/30\n",
            "1719/1719 [==============================] - 5s 3ms/step - loss: 0.3100 - sparse_categorical_accuracy: 0.8883 - val_loss: 0.3321 - val_sparse_categorical_accuracy: 0.8850\n",
            "Epoch 14/30\n",
            "1719/1719 [==============================] - 6s 4ms/step - loss: 0.3040 - sparse_categorical_accuracy: 0.8896 - val_loss: 0.3440 - val_sparse_categorical_accuracy: 0.8810\n",
            "Epoch 15/30\n",
            "1719/1719 [==============================] - 5s 3ms/step - loss: 0.2969 - sparse_categorical_accuracy: 0.8931 - val_loss: 0.3314 - val_sparse_categorical_accuracy: 0.8836\n",
            "Epoch 16/30\n",
            "1719/1719 [==============================] - 6s 3ms/step - loss: 0.2917 - sparse_categorical_accuracy: 0.8947 - val_loss: 0.3154 - val_sparse_categorical_accuracy: 0.8900\n",
            "Epoch 17/30\n",
            "1719/1719 [==============================] - 6s 3ms/step - loss: 0.2865 - sparse_categorical_accuracy: 0.8959 - val_loss: 0.3544 - val_sparse_categorical_accuracy: 0.8746\n",
            "Epoch 18/30\n",
            "1719/1719 [==============================] - 5s 3ms/step - loss: 0.2806 - sparse_categorical_accuracy: 0.8987 - val_loss: 0.3153 - val_sparse_categorical_accuracy: 0.8896\n",
            "Epoch 19/30\n",
            "1719/1719 [==============================] - 6s 4ms/step - loss: 0.2757 - sparse_categorical_accuracy: 0.9004 - val_loss: 0.3174 - val_sparse_categorical_accuracy: 0.8900\n",
            "Epoch 20/30\n",
            "1719/1719 [==============================] - 5s 3ms/step - loss: 0.2708 - sparse_categorical_accuracy: 0.9025 - val_loss: 0.3339 - val_sparse_categorical_accuracy: 0.8830\n",
            "Epoch 21/30\n",
            "1719/1719 [==============================] - 7s 4ms/step - loss: 0.2657 - sparse_categorical_accuracy: 0.9043 - val_loss: 0.3044 - val_sparse_categorical_accuracy: 0.8934\n",
            "Epoch 22/30\n",
            "1719/1719 [==============================] - 5s 3ms/step - loss: 0.2611 - sparse_categorical_accuracy: 0.9062 - val_loss: 0.2981 - val_sparse_categorical_accuracy: 0.8956\n",
            "Epoch 23/30\n",
            "1719/1719 [==============================] - 6s 3ms/step - loss: 0.2570 - sparse_categorical_accuracy: 0.9068 - val_loss: 0.3046 - val_sparse_categorical_accuracy: 0.8934\n",
            "Epoch 24/30\n",
            "1719/1719 [==============================] - 6s 3ms/step - loss: 0.2528 - sparse_categorical_accuracy: 0.9082 - val_loss: 0.3070 - val_sparse_categorical_accuracy: 0.8888\n",
            "Epoch 25/30\n",
            "1719/1719 [==============================] - 5s 3ms/step - loss: 0.2487 - sparse_categorical_accuracy: 0.9091 - val_loss: 0.3026 - val_sparse_categorical_accuracy: 0.8952\n",
            "Epoch 26/30\n",
            "1719/1719 [==============================] - 6s 4ms/step - loss: 0.2449 - sparse_categorical_accuracy: 0.9118 - val_loss: 0.3023 - val_sparse_categorical_accuracy: 0.8944\n",
            "Epoch 27/30\n",
            "1719/1719 [==============================] - 5s 3ms/step - loss: 0.2412 - sparse_categorical_accuracy: 0.9136 - val_loss: 0.2999 - val_sparse_categorical_accuracy: 0.8960\n",
            "Epoch 28/30\n",
            "1719/1719 [==============================] - 6s 4ms/step - loss: 0.2378 - sparse_categorical_accuracy: 0.9146 - val_loss: 0.3079 - val_sparse_categorical_accuracy: 0.8910\n",
            "Epoch 29/30\n",
            "1719/1719 [==============================] - 5s 3ms/step - loss: 0.2336 - sparse_categorical_accuracy: 0.9153 - val_loss: 0.3144 - val_sparse_categorical_accuracy: 0.8852\n",
            "Epoch 30/30\n",
            "1719/1719 [==============================] - 6s 4ms/step - loss: 0.2297 - sparse_categorical_accuracy: 0.9172 - val_loss: 0.3022 - val_sparse_categorical_accuracy: 0.8956\n"
          ]
        }
      ]
    }
  ]
}