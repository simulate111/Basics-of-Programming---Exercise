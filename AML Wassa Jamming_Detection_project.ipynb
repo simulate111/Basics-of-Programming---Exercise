{
  "cells": [
    {
      "cell_type": "markdown",
      "metadata": {
        "id": "view-in-github",
        "colab_type": "text"
      },
      "source": [
        "<a href=\"https://colab.research.google.com/github/simulate111/Basics-of-Programming---Exercise/blob/main/AML%20Wassa%20Jamming_Detection_project.ipynb\" target=\"_parent\"><img src=\"https://colab.research.google.com/assets/colab-badge.svg\" alt=\"Open In Colab\"/></a>"
      ]
    },
    {
      "cell_type": "markdown",
      "id": "977237b2-da4e-4184-b516-c8816a3dfd2a",
      "metadata": {
        "id": "977237b2-da4e-4184-b516-c8816a3dfd2a"
      },
      "source": [
        "# GNSS Jamming detection\n",
        "\n",
        "Global Navigation Satellite System (GNSS) has become a critical part of hour society. It is vital for personal navigation, air and marine traffic, logistics, farming, and many other applications. It also provide precise timing for smart power grids, banking sector, etc.\n",
        "\n",
        "During recent years, GNSS Jamming (blocking) and spoofing (fake GNSS data) have become serious problems. The picture from [GPS Jam](https://gpsjam.org/) web site, shows the real time jamming situation in 17th of October 2024.\n",
        "\n",
        "![image.png](https://github.com/simulate111/Basics-of-Programming---Exercise/blob/main/11.png?raw=1)\n",
        "\n",
        "## Jamming detection\n",
        "One step forward to protect from GNSS jamming, is to detect it. It is difficult to get controlled data about jamming, because GNSS jamming is illegal, and cannot be done in the field. There is, however, one place in Europe, where GNSS jamming and spoofing can be made during speficic campaings. We participated this year in the [Jammertest2024](https://jammertest.no/jammertest/) event in Bleik, Norway, and collected a lot of data with different equipment.\n",
        "\n",
        "![image.png](https://github.com/simulate111/Basics-of-Programming---Exercise/blob/main/12.png?raw=1)\n",
        "\n",
        "The Grey box, which I am touching with my left hand, contains a Google pixel phone, which is one of the devices we used for collecting data.\n",
        "\n",
        "## The data\n",
        "\n",
        "We collected the data using a [GNSS-logger application](https://play.google.com/store/apps/details?id=com.google.android.apps.location.gps.gnsslogger&hl=en&pli=1) in the phone. The data contains the following sensor data:\n",
        "\n",
        "- GNSS measuremet data in National Marine Electronics Association's (NMEA) data format\n",
        "- Raw GNSS observations in Receiver Independent Exchange Format (RINEX)\n",
        "- Accelerometer, Gyroscope and magnetometer observations\n",
        "- We collected also odometer data from the car using OBD-reader. It contains distance and velocity information. The resolution of the distance is only 100 m\n",
        "\n",
        "## The experiment2\n",
        " - Filename MP1_2024-09-10T1421 (UTC +2)\n",
        " - Samples: 1371\n",
        " - Time = 2024-09-10 12:21:49 - 12:44:40 (UTC)\n",
        "   \n",
        "Jammer was located at Stave (69.21244, 15.85825). The phone collecting the data was Google Pixel, with Android 14, attached in the roof of our car. We drowe back and forth between the Stave community house, where the jammer was and the turning point few hundred meters away.\n",
        "\n",
        "### Experiment 1\n",
        " - cigaret lighter jammer\n",
        " - 2024-09-10 12:15 UTC ---\n",
        "\n",
        "### Experiment 2\n",
        " - jammer on, multi antenna\n",
        " - 2024-09-10 12:30:30 UTC ---\n",
        " - jammer located in the same place as previous\n"
      ]
    },
    {
      "cell_type": "markdown",
      "id": "456f29c2-816d-44ca-bab3-8913ef52cc87",
      "metadata": {
        "id": "456f29c2-816d-44ca-bab3-8913ef52cc87"
      },
      "source": [
        "## The task\n",
        "\n",
        "Use the provdided data and develop a method to detect jamming.\n",
        "\n",
        "Instructions:\n",
        "- It is probably easiest to start with `nmea.csv`, which contains timestamp, latitude and longitude. These values are extracted from `GPGGA` messages from `gnss_log_2024_09_10_14_21_50.nmea`.\n",
        "   - Additional information: The most commong NMEA messages are explained in\n",
        "[What Exactly Is GPS NMEA Data?](https://www.gpsworld.com/what-exactly-is-gps-nmea-data/)\n",
        "- The satellite observations before any processing, are stored in Rinex file `gnss_log_2024_09_10_14_21_50.nmea`\n",
        "   - The full RINEX specification is [here](https://files.igs.org/pub/data/format/rinex305.pdf?_gl=1*3fgn2n*_ga*MTkyOTM0NjYzMi4xNzI5MDA1MjE0*_ga_Z5RH7R682C*MTcyOTE5OTI5MS4yLjAuMTcyOTE5OTI5OC41My4wLjA.&_ga=2.185390953.157231000.1729199293-1929346632.1729005214)\n",
        "   - For example, the [RTKlib](https://github.com/tomojitakasu/RTKLIB)-program can read the RINEX file and calculate the receiver position based on that. The `gnss_log_2024_09_10_14_21_50.pos` -file contains this pre-calculated position information, calculated only on raw satellite measurements\n",
        "   - The `.pos` -file contains also much more information than only the position.\n",
        "   - A lot of more information about RTKlib and position are in the  [RTKlib explorer blog](https://rtklibexplorer.wordpress.com/)\n",
        "- The car odometer data in files `odometer_2024-09-10T1407.log` and `odometer_2024-09-10T1429.log` can be also useful, since it is free from spoofing or jamming\n",
        "\n",
        "Furher tips:\n",
        "- The positioning data is best to be visualized in a map. The [IPY-Leaflet](https://ipyleaflet.readthedocs.io/en/latest/) widget is really handy for visualizing positioning data in the map.\n"
      ]
    },
    {
      "cell_type": "markdown",
      "id": "4314d57d-9c90-4218-98b6-91b3d92462ad",
      "metadata": {
        "id": "4314d57d-9c90-4218-98b6-91b3d92462ad"
      },
      "source": [
        "### The POS file desrcription\n",
        "\n",
        "Field | Purpose\n",
        "----- | -------\n",
        "GPST  | Timestamp                \n",
        "latitude(deg)  | Latitude\n",
        "longitude(deg)  | Longitude\n",
        "height(m)    | Height\n",
        "Q   | Quality factor\n",
        "ns  | Number of satellites available for positioning\n",
        "sdn(m)   | Standard deviation in Norh-South direction\n",
        "sde(m)   | Standard deviation in East-West direction\n",
        "sdu(m)   | Standard deviation in Up-direction\n",
        "sdne(m)  | Standard deviation in North-East, horizontal plane\n",
        "sdeu(m)  | Standard deviation in East-Up plane\n",
        "sdun(m)  | Standard devaition in Up-North plane\n",
        "age(s)   | Age of data\n",
        "ratio    | ?\n"
      ]
    },
    {
      "cell_type": "code",
      "execution_count": null,
      "id": "305a7e66-b99a-4b02-9c3e-d2af9401562c",
      "metadata": {
        "id": "305a7e66-b99a-4b02-9c3e-d2af9401562c"
      },
      "outputs": [],
      "source": []
    }
  ],
  "metadata": {
    "kernelspec": {
      "display_name": "Python 3 (ipykernel)",
      "language": "python",
      "name": "python3"
    },
    "language_info": {
      "codemirror_mode": {
        "name": "ipython",
        "version": 3
      },
      "file_extension": ".py",
      "mimetype": "text/x-python",
      "name": "python",
      "nbconvert_exporter": "python",
      "pygments_lexer": "ipython3",
      "version": "3.11.2"
    },
    "colab": {
      "provenance": [],
      "include_colab_link": true
    }
  },
  "nbformat": 4,
  "nbformat_minor": 5
}