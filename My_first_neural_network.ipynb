{
  "nbformat": 4,
  "nbformat_minor": 0,
  "metadata": {
    "kernelspec": {
      "display_name": "Python 3",
      "language": "python",
      "name": "python3"
    },
    "language_info": {
      "codemirror_mode": {
        "name": "ipython",
        "version": 3
      },
      "file_extension": ".py",
      "mimetype": "text/x-python",
      "name": "python",
      "nbconvert_exporter": "python",
      "pygments_lexer": "ipython3",
      "version": "3.7.9"
    },
    "nav_menu": {
      "height": "264px",
      "width": "369px"
    },
    "toc": {
      "navigate_menu": true,
      "number_sections": true,
      "sideBar": true,
      "threshold": 6,
      "toc_cell": false,
      "toc_section_display": "block",
      "toc_window_display": false
    },
    "colab": {
      "provenance": [],
      "collapsed_sections": [
        "qhFCJJT4Va-I",
        "Gj7F1cRneOmD",
        "pv2AuYfKZc8T",
        "uoRvyRUPmOBb",
        "GTEjSMJ2X-Qb",
        "DDjfh2l8xhKQ",
        "6soNuFpW5vtL",
        "rdsrkkF2-FQI",
        "QEnsTx9d-sRj",
        "ynO53ErSC3rB",
        "xipc69pRqobD",
        "x4rkVQ6_ujYL"
      ],
      "include_colab_link": true
    },
    "accelerator": "GPU"
  },
  "cells": [
    {
      "cell_type": "markdown",
      "metadata": {
        "id": "view-in-github",
        "colab_type": "text"
      },
      "source": [
        "<a href=\"https://colab.research.google.com/github/simulate111/Basics-of-Programming---Exercise/blob/main/My_first_neural_network.ipynb\" target=\"_parent\"><img src=\"https://colab.research.google.com/assets/colab-badge.svg\" alt=\"Open In Colab\"/></a>"
      ]
    },
    {
      "cell_type": "markdown",
      "metadata": {
        "id": "qhFCJJT4Va-I"
      },
      "source": [
        "# **My first neural network**\n",
        "\n",
        "This notebook is adapted from Aurelion Geron's \"Neural nets in Keras\" notebook (section \"Building an Image Classifier\"). You can find all of his notebooks from [here](https://github.com/ageron/handson-ml2). You can find more details in the [TF Sequential model guide](https://www.tensorflow.org/guide/keras/sequential_model) (it uses a convolutional net as the model, but the text should be mostly understandable anyway)."
      ]
    },
    {
      "cell_type": "markdown",
      "metadata": {
        "id": "R9HEKyJDVa-J"
      },
      "source": [
        "<table align=\"left\">\n",
        "  <td>\n",
        "    <a target=\"_blank\" href=\"https://colab.research.google.com/github/ageron/handson-ml2/blob/master/10_neural_nets_with_keras.ipynb\"><img src=\"https://www.tensorflow.org/images/colab_logo_32px.png\" />Run in Google Colab</a>\n",
        "  </td>\n",
        "</table>"
      ]
    },
    {
      "cell_type": "markdown",
      "metadata": {
        "id": "hUuq81B8Va-K"
      },
      "source": [
        "We first import a few common modules and ensure MatplotLib plots figures inline."
      ]
    },
    {
      "cell_type": "code",
      "metadata": {
        "id": "ZGXHxpgWVa-K"
      },
      "source": [
        "import numpy as np\n",
        "import os\n",
        "\n",
        "%matplotlib inline\n",
        "import matplotlib as mpl\n",
        "import matplotlib.pyplot as plt\n",
        "mpl.rc('axes', labelsize=14)\n",
        "mpl.rc('xtick', labelsize=12)\n",
        "mpl.rc('ytick', labelsize=12)"
      ],
      "execution_count": 18,
      "outputs": []
    },
    {
      "cell_type": "markdown",
      "metadata": {
        "id": "o0n7kI03Va-N"
      },
      "source": [
        "Import TensorFlow and Keras."
      ]
    },
    {
      "cell_type": "code",
      "metadata": {
        "id": "dEkP6_ZNVa-O",
        "colab": {
          "base_uri": "https://localhost:8080/"
        },
        "outputId": "4247670d-be17-454e-8635-3722cbf52fbb"
      },
      "source": [
        "import tensorflow as tf\n",
        "from tensorflow import keras\n",
        "# Just comment these off if you don't want to see them\n",
        "print(\"TF:    \", tf.__version__)\n",
        "#print(\"Keras: \", keras.__version__)"
      ],
      "execution_count": 19,
      "outputs": [
        {
          "output_type": "stream",
          "name": "stdout",
          "text": [
            "TF:     2.15.0\n"
          ]
        }
      ]
    },
    {
      "cell_type": "markdown",
      "metadata": {
        "id": "RBGZLaPXdmL5"
      },
      "source": [
        "Initialize random number generators. In this way we get same results on different runs of the notebook."
      ]
    },
    {
      "cell_type": "code",
      "metadata": {
        "id": "5CEvNwdtc_P8"
      },
      "source": [
        "np.random.seed(42)\n",
        "tf.random.set_seed(42)"
      ],
      "execution_count": 20,
      "outputs": []
    },
    {
      "cell_type": "markdown",
      "metadata": {
        "id": "Gj7F1cRneOmD"
      },
      "source": [
        "# Loading the Fashion MNIST dataset"
      ]
    },
    {
      "cell_type": "markdown",
      "metadata": {
        "id": "xA-d5O9gVa-O"
      },
      "source": [
        "Keras has a few [datasets](https://www.tensorflow.org/api_docs/python/tf/keras/datasets) readily available, and loading them is very easy. These datasets are reasonably small so we can just load them in numpy vectors. For the one we are using - Fashion MNIST - see its [`load_data`](https://www.tensorflow.org/api_docs/python/tf/keras/datasets/fashion_mnist/load_data) documentation for more information about this dataset.\n",
        "\n",
        "Fashion MNIST dataset is already split to a training set and a test set. We'll split the full training set further to an actual training set and a validation set (hence the choice of names below)."
      ]
    },
    {
      "cell_type": "code",
      "metadata": {
        "id": "8-BhpaLdVa-O"
      },
      "source": [
        "fashion_mnist = keras.datasets.fashion_mnist\n",
        "\n",
        "(X_train_full, y_train_full), (X_test, y_test) = fashion_mnist.load_data()"
      ],
      "execution_count": 21,
      "outputs": []
    },
    {
      "cell_type": "markdown",
      "metadata": {
        "id": "Qhh56Q_AVa-O"
      },
      "source": [
        "Let's see what the training data is made of. Recall that tensors are just grid-like arrangements of elements. `shape` tells the form of that grid and `dtype` the type of elements."
      ]
    },
    {
      "cell_type": "code",
      "metadata": {
        "id": "etSZhw9sVa-P",
        "colab": {
          "base_uri": "https://localhost:8080/"
        },
        "outputId": "e12dec55-da4b-45d1-f988-3a2c76f69288"
      },
      "source": [
        "print('Training data shape:', X_train_full.shape)\n",
        "print('Training data dtype:', X_train_full.dtype)"
      ],
      "execution_count": 22,
      "outputs": [
        {
          "output_type": "stream",
          "name": "stdout",
          "text": [
            "Training data shape: (60000, 28, 28)\n",
            "Training data dtype: uint8\n"
          ]
        }
      ]
    },
    {
      "cell_type": "markdown",
      "metadata": {
        "id": "6ag4MwSYVa-P"
      },
      "source": [
        "Each pixel intensity is represented as a byte (unsigned 8-bit integer), hence the value range is from 0 to 255."
      ]
    },
    {
      "cell_type": "markdown",
      "metadata": {
        "id": "pQBLD8WIUeLv"
      },
      "source": [
        "How about the labels?"
      ]
    },
    {
      "cell_type": "code",
      "metadata": {
        "id": "Ej2s4uiiUg3V",
        "colab": {
          "base_uri": "https://localhost:8080/"
        },
        "outputId": "62f36372-aa89-4fdf-9975-3259621b89e5"
      },
      "source": [
        "print('Training label shape:', y_train_full.shape)\n",
        "print('Training label dtype:', y_train_full.dtype)"
      ],
      "execution_count": 23,
      "outputs": [
        {
          "output_type": "stream",
          "name": "stdout",
          "text": [
            "Training label shape: (60000,)\n",
            "Training label dtype: uint8\n"
          ]
        }
      ]
    },
    {
      "cell_type": "markdown",
      "metadata": {
        "id": "3Fdb95jGVa-Q"
      },
      "source": [
        "The labels are the class IDs (represented as uint8), from 0 to 9:"
      ]
    },
    {
      "cell_type": "code",
      "metadata": {
        "id": "XV9INcwwVa-Q",
        "colab": {
          "base_uri": "https://localhost:8080/"
        },
        "outputId": "77f5cba2-1f78-4a7d-8be6-5f963aaa44af"
      },
      "source": [
        "print(y_train_full)"
      ],
      "execution_count": 24,
      "outputs": [
        {
          "output_type": "stream",
          "name": "stdout",
          "text": [
            "[9 0 0 ... 3 0 5]\n"
          ]
        }
      ]
    },
    {
      "cell_type": "markdown",
      "metadata": {
        "id": "bO2ywKV4Va-R"
      },
      "source": [
        "Here are the corresponding class names:"
      ]
    },
    {
      "cell_type": "code",
      "metadata": {
        "id": "MFKMGJU6Va-R"
      },
      "source": [
        "class_names = [\"T-shirt/top\", \"Trousers\", \"Pullover\", \"Dress\", \"Coat\",\n",
        "               \"Sandal\", \"Shirt\", \"Sneaker\", \"Bag\", \"Ankle boot\"]"
      ],
      "execution_count": 25,
      "outputs": []
    },
    {
      "cell_type": "markdown",
      "metadata": {
        "id": "1lpuhWIqVa-R"
      },
      "source": [
        "We can no decode the class names of examples."
      ]
    },
    {
      "cell_type": "code",
      "metadata": {
        "id": "JJopfiGpVa-R",
        "colab": {
          "base_uri": "https://localhost:8080/"
        },
        "outputId": "d247de6b-989e-4191-f0d6-c3bab3ee76cb"
      },
      "source": [
        "print('Class of the first image is \"', class_names[y_train_full[0]], '\"')"
      ],
      "execution_count": 26,
      "outputs": [
        {
          "output_type": "stream",
          "name": "stdout",
          "text": [
            "Class of the first image is \" Ankle boot \"\n"
          ]
        }
      ]
    },
    {
      "cell_type": "markdown",
      "metadata": {
        "id": "tluOh8RlVa-Q"
      },
      "source": [
        "We next split the full training set into a validation set (first 5000 examples) and the actual training set (from 5000 upwards). A similar split is done for the target values.\n",
        "\n",
        "We also scale all pixel intensities down to the 0-1 range and convert them to floats, simply by dividing them by (floating point) 255."
      ]
    },
    {
      "cell_type": "code",
      "metadata": {
        "id": "OP_31aMUVa-Q"
      },
      "source": [
        "X_valid, X_train = X_train_full[:5000] / 255., X_train_full[5000:] / 255.\n",
        "\n",
        "y_valid, y_train = y_train_full[:5000], y_train_full[5000:]\n",
        "\n",
        "# remember to scale all data in a similar way\n",
        "X_test = X_test / 255."
      ],
      "execution_count": 27,
      "outputs": []
    },
    {
      "cell_type": "markdown",
      "metadata": {
        "id": "68UAGmDaVa-R"
      },
      "source": [
        "Let's verify that our datasets are as intended."
      ]
    },
    {
      "cell_type": "code",
      "metadata": {
        "id": "wOXHODJUVa-R",
        "colab": {
          "base_uri": "https://localhost:8080/"
        },
        "outputId": "cf61485b-d6dc-42d2-9304-471bc2986c55"
      },
      "source": [
        "print('Training data shape  :', X_train.shape)\n",
        "print('Validation data shape:', X_valid.shape)\n",
        "print('Test data shape      :', X_test.shape)"
      ],
      "execution_count": 28,
      "outputs": [
        {
          "output_type": "stream",
          "name": "stdout",
          "text": [
            "Training data shape  : (55000, 28, 28)\n",
            "Validation data shape: (5000, 28, 28)\n",
            "Test data shape      : (10000, 28, 28)\n"
          ]
        }
      ]
    },
    {
      "cell_type": "markdown",
      "metadata": {
        "id": "0GoopuQ-Va-Q"
      },
      "source": [
        "You can plot an image using Matplotlib's `imshow()` function, with a `'binary'`\n",
        " color map. Note that we do this after scaling the pixels to 0-1 floats."
      ]
    },
    {
      "cell_type": "code",
      "metadata": {
        "id": "fzAMtWKPVa-Q",
        "colab": {
          "base_uri": "https://localhost:8080/",
          "height": 406
        },
        "outputId": "1aa636fb-82d6-44ca-85a5-2a7b101edf7d"
      },
      "source": [
        "plt.imshow(X_train[0], cmap=\"binary\")\n",
        "plt.axis('off')\n",
        "plt.show()"
      ],
      "execution_count": 29,
      "outputs": [
        {
          "output_type": "display_data",
          "data": {
            "text/plain": [
              "<Figure size 640x480 with 1 Axes>"
            ],
            "image/png": "[encoded data removed]"
          },
          "metadata": {}
        }
      ]
    },
    {
      "cell_type": "markdown",
      "metadata": {
        "id": "at7-ad3pVa-S"
      },
      "source": [
        "Let's take a look at a larger sample of images (we also label them with their class names)."
      ]
    },
    {
      "cell_type": "code",
      "metadata": {
        "id": "VVrqe8aSVa-S",
        "colab": {
          "base_uri": "https://localhost:8080/",
          "height": 428
        },
        "outputId": "e104f3df-70d2-47ff-e602-835e8d180f06"
      },
      "source": [
        "n_rows = 4\n",
        "n_cols = 10\n",
        "plt.figure(figsize=(n_cols * 1.2, n_rows * 1.2))\n",
        "\n",
        "for row in range(n_rows):\n",
        "    for col in range(n_cols):\n",
        "        index = n_cols * row + col\n",
        "        plt.subplot(n_rows, n_cols, index + 1)\n",
        "        plt.imshow(X_train[index], cmap=\"binary\", interpolation=\"nearest\")\n",
        "        plt.axis('off')\n",
        "        plt.title(class_names[y_train[index]], fontsize=12)\n",
        "\n",
        "plt.subplots_adjust(wspace=0.2, hspace=0.5)\n",
        "\n",
        "plt.show()"
      ],
      "execution_count": 30,
      "outputs": [
        {
          "output_type": "display_data",
          "data": {
            "text/plain": [
              "<Figure size 1200x480 with 40 Axes>"
            ],
            "image/png": "[encoded data removed]"
          },
          "metadata": {}
        }
      ]
    },
    {
      "cell_type": "markdown",
      "metadata": {
        "id": "pv2AuYfKZc8T"
      },
      "source": [
        "# Creating the model"
      ]
    },
    {
      "cell_type": "markdown",
      "metadata": {
        "id": "kNRrt6bwZkbs"
      },
      "source": [
        "We build a MLP with two hidden layers using the Keras [Sequential API](https://www.tensorflow.org/api_docs/python/tf/keras/Sequential).\n",
        "\n",
        "Sequential models offer a very easy way of building neural networks that are composed of a single stack of layers connected sequentially (like MLPs). We just add them on top of each other using the `add` operation."
      ]
    },
    {
      "cell_type": "code",
      "metadata": {
        "id": "mqeyrGfrdB8N"
      },
      "source": [
        "model = keras.models.Sequential()"
      ],
      "execution_count": 31,
      "outputs": []
    },
    {
      "cell_type": "markdown",
      "metadata": {
        "id": "Jx4P9ZIKdKSM"
      },
      "source": [
        "Recall that MLPs want their inputs as vectors. And our data consists of small matrices.\n",
        "\n",
        "The first layer is an utility layer that converts (flattens) the pixel matrices to vectors (of 28*28 = 784 elements). You could do the same with Numpy [`reshape`](https://numpy.org/doc/stable/reference/generated/numpy.reshape.html)(and then use the resulting vector as the input)."
      ]
    },
    {
      "cell_type": "code",
      "metadata": {
        "id": "LHt5xJ38dGZ0"
      },
      "source": [
        "model.add(keras.layers.Flatten(input_shape = (28, 28)))"
      ],
      "execution_count": 32,
      "outputs": []
    },
    {
      "cell_type": "markdown",
      "metadata": {
        "id": "p9NesDZSz9mo"
      },
      "source": [
        "We also specified the input shape for the first layer appearing in the network.Note that the shape does _not_ include the minibatch size, just the shape of the data elements. Keras needs to know this shape before it can (automatically) build weight matrix and bias vector between the input and first hidden layer.\n",
        "\n",
        "Specifying the input shape is not strictly necessary: Keras will build the weight matrix when the model is first trained with actual data (the input shape is evident from the trainig data).\n",
        "\n",
        "*Best practise*: specify the input shape of a Sequential model if you know what it is. In this way you can print model summaries immediately after adding layers."
      ]
    },
    {
      "cell_type": "code",
      "metadata": {
        "id": "LIYPs6vgWtby",
        "colab": {
          "base_uri": "https://localhost:8080/"
        },
        "outputId": "4d1af5ca-0f4f-4914-b798-69772be14549"
      },
      "source": [
        "# It's also a good practise to present numbers as products of the things they are made of\n",
        "# So instead of 784 (nobody knows where it came from), use 28*28\n",
        "print(28*28)"
      ],
      "execution_count": 33,
      "outputs": [
        {
          "output_type": "stream",
          "name": "stdout",
          "text": [
            "784\n"
          ]
        }
      ]
    },
    {
      "cell_type": "markdown",
      "metadata": {
        "id": "ikdYII23fORc"
      },
      "source": [
        "Next we add two (fully connected) hidden layers and specify their sizes and activation functions.\n",
        "\n",
        "Fully connected layers are called [`Dense`](https://www.tensorflow.org/api_docs/python/tf/keras/layers/Dense) layers. Each Dense layer has its own weight matrix and bias vector.\n",
        "\n",
        "If you don't give an activation, it defaults to \"no activation\" (i.e. the output is what weight matrix*input vector + bias gives).\n",
        "\n",
        "**Note.**\n",
        "Many Keras operations can be accessed using a \"string name\". For example, specifying `activation=\"relu\"` is equivalent to specifying `activation=keras.activations.relu`. In practise this means that the corresponding operation will be used with its default parameter values. You find lots and lots of tutorials using this string naming.\n",
        "\n",
        "*Best practise:* Always use the actual classes and operations, not their string names. Everyone sees then from which library the operation comes from, and you can give your own parameter values instead of the default ones. If you want to make the names shorter, just introduce your own aliases."
      ]
    },
    {
      "cell_type": "code",
      "metadata": {
        "id": "G4qEntZRVa-S"
      },
      "source": [
        "model.add(keras.layers.Dense(300, activation = keras.activations.relu))\n",
        "\n",
        "# use your own naming\n",
        "my_activation = keras.activations.relu\n",
        "model.add(keras.layers.Dense(100, activation = my_activation))"
      ],
      "execution_count": 34,
      "outputs": []
    },
    {
      "cell_type": "code",
      "metadata": {
        "id": "HyO4kJY3XEJi"
      },
      "source": [
        "# same using the string names\n",
        "# model.add(keras.layers.Dense(300, activation=\"relu\"))\n",
        "# model.add(keras.layers.Dense(100, activation=\"relu\"))"
      ],
      "execution_count": 35,
      "outputs": []
    },
    {
      "cell_type": "markdown",
      "metadata": {
        "id": "X9v3TqB3j1se"
      },
      "source": [
        "We end the model with an output layer of size 10 (since we had 10 classes) and [`softmax`](https://www.tensorflow.org/api_docs/python/tf/keras/activations/softmax) activation (since we have a multiclass problem).\n"
      ]
    },
    {
      "cell_type": "code",
      "metadata": {
        "id": "H3xTITqjhLB7"
      },
      "source": [
        "model.add(keras.layers.Dense(10, activation = keras.activations.softmax))\n",
        "\n",
        "# model.add(keras.layers.Dense(10, activation = \"softmax\"))"
      ],
      "execution_count": 36,
      "outputs": []
    },
    {
      "cell_type": "markdown",
      "metadata": {
        "id": "LhaS3Vojkclg"
      },
      "source": [
        "The Sequential model initializer accepts a list of model layers, so we can build our model also in the way below. This is a more flexible way and allows you to build such layer lists in your code before creating a model."
      ]
    },
    {
      "cell_type": "code",
      "metadata": {
        "id": "d4vBF1s5Va-S"
      },
      "source": [
        "# This is useful when you create and throw away lots of models (consumes memory)\n",
        "# See https://www.tensorflow.org/api_docs/python/tf/keras/backend/clear_session\n",
        "\n",
        "def free_memory():\n",
        "  keras.backend.clear_session()"
      ],
      "execution_count": 37,
      "outputs": []
    },
    {
      "cell_type": "code",
      "metadata": {
        "id": "0fDT9XJqVa-S"
      },
      "source": [
        "model = keras.models.Sequential([\n",
        "    keras.layers.Flatten(input_shape = (28, 28)),\n",
        "    keras.layers.Dense(300, activation = keras.activations.relu),\n",
        "    keras.layers.Dense(100, activation = keras.activations.relu),\n",
        "    keras.layers.Dense(10,  activation = keras.activations.softmax)\n",
        "])"
      ],
      "execution_count": 38,
      "outputs": []
    },
    {
      "cell_type": "markdown",
      "metadata": {
        "id": "Vy88pfuQaXtV"
      },
      "source": [
        "You can also make a routine that returns models. In this way you can easily create new fresh untrained models when needed."
      ]
    },
    {
      "cell_type": "code",
      "metadata": {
        "id": "YtQSbkK3ajuH"
      },
      "source": [
        "def create_MLP():\n",
        "  model = keras.models.Sequential([\n",
        "    keras.layers.Flatten(input_shape = (28, 28)),\n",
        "    keras.layers.Dense(300, activation = keras.activations.relu),\n",
        "    keras.layers.Dense(100, activation = keras.activations.relu),\n",
        "    keras.layers.Dense(10,  activation = keras.activations.softmax)\n",
        "  ])\n",
        "  return model"
      ],
      "execution_count": 39,
      "outputs": []
    },
    {
      "cell_type": "code",
      "metadata": {
        "id": "7iXENz6easBP"
      },
      "source": [
        "free_memory()\n",
        "model = create_MLP()"
      ],
      "execution_count": 40,
      "outputs": []
    },
    {
      "cell_type": "markdown",
      "metadata": {
        "id": "uoRvyRUPmOBb"
      },
      "source": [
        "# Examining models"
      ]
    },
    {
      "cell_type": "markdown",
      "metadata": {
        "id": "H4Yt5XK8mdlR"
      },
      "source": [
        "The usual way to examine a (possibly partially) built model is its `summary()`."
      ]
    },
    {
      "cell_type": "code",
      "metadata": {
        "id": "Evca-Cdsm6vY",
        "colab": {
          "base_uri": "https://localhost:8080/"
        },
        "outputId": "e8e41dcc-0cb8-4282-db02-d1543c42c536"
      },
      "source": [
        "model.summary()"
      ],
      "execution_count": 41,
      "outputs": [
        {
          "output_type": "stream",
          "name": "stdout",
          "text": [
            "Model: \"sequential\"\n",
            "_________________________________________________________________\n",
            " Layer (type)                Output Shape              Param #   \n",
            "=================================================================\n",
            " flatten (Flatten)           (None, 784)               0         \n",
            "                                                                 \n",
            " dense (Dense)               (None, 300)               235500    \n",
            "                                                                 \n",
            " dense_1 (Dense)             (None, 100)               30100     \n",
            "                                                                 \n",
            " dense_2 (Dense)             (None, 10)                1010      \n",
            "                                                                 \n",
            "=================================================================\n",
            "Total params: 266610 (1.02 MB)\n",
            "Trainable params: 266610 (1.02 MB)\n",
            "Non-trainable params: 0 (0.00 Byte)\n",
            "_________________________________________________________________\n"
          ]
        }
      ]
    },
    {
      "cell_type": "markdown",
      "metadata": {
        "id": "o1ghW87QxC3M"
      },
      "source": [
        "The first axis is (always) the \"batch axis\". Value `None` tells that it has not been specified (this is ok and allows you to use different minibatch sizes with the same model)."
      ]
    },
    {
      "cell_type": "markdown",
      "metadata": {
        "id": "XCK6JBsL4Kpw"
      },
      "source": [
        "*Best practise:*  When building a new model, print model summaries every now and then after adding new layers.\n"
      ]
    },
    {
      "cell_type": "markdown",
      "metadata": {
        "id": "ogL4gnmzxWmw"
      },
      "source": [
        "There is also a utility `plot_model` to get a graphical representation of a model. In more complex architectures, this is helpful to get a grasp on how different parts of the model are connected to each other. Since MLP is just a stack, the graphics don't really add anything new to the summary."
      ]
    },
    {
      "cell_type": "code",
      "metadata": {
        "id": "cJLWprRlm-qP",
        "colab": {
          "base_uri": "https://localhost:8080/",
          "height": 533
        },
        "outputId": "619a7762-ce38-48d3-d2ad-1dddca768012"
      },
      "source": [
        "keras.utils.plot_model(model, show_shapes=True)"
      ],
      "execution_count": 42,
      "outputs": [
        {
          "output_type": "execute_result",
          "data": {
            "image/png": "[encoded data removed]",
            "text/plain": [
              "<IPython.core.display.Image object>"
            ]
          },
          "metadata": {},
          "execution_count": 42
        }
      ]
    },
    {
      "cell_type": "markdown",
      "metadata": {
        "id": "GTEjSMJ2X-Qb"
      },
      "source": [
        "## Sidestep: Examining layers"
      ]
    },
    {
      "cell_type": "markdown",
      "metadata": {
        "id": "D69KZHCZoHu-"
      },
      "source": [
        "You might need to access the layers directly in some applications. The layers are stored as a list in `model.layers`. See https://www.tensorflow.org/api_docs/python/tf/keras/layers/Layer for all details."
      ]
    },
    {
      "cell_type": "code",
      "metadata": {
        "id": "9pwT5HYKpLRn",
        "colab": {
          "base_uri": "https://localhost:8080/"
        },
        "outputId": "fd3720c5-b061-4900-91be-83bcb90000e4"
      },
      "source": [
        "type(model.layers)"
      ],
      "execution_count": 43,
      "outputs": [
        {
          "output_type": "execute_result",
          "data": {
            "text/plain": [
              "list"
            ]
          },
          "metadata": {},
          "execution_count": 43
        }
      ]
    },
    {
      "cell_type": "code",
      "metadata": {
        "id": "Koeakw5TVa-T",
        "colab": {
          "base_uri": "https://localhost:8080/"
        },
        "outputId": "a706a0f7-7e8a-4ad4-f5f8-dae3c7b9dec9"
      },
      "source": [
        "print(*model.layers, sep='\\n')"
      ],
      "execution_count": 44,
      "outputs": [
        {
          "output_type": "stream",
          "name": "stdout",
          "text": [
            "<keras.src.layers.reshaping.flatten.Flatten object at 0x7f33633c34c0>\n",
            "<keras.src.layers.core.dense.Dense object at 0x7f33633c3c70>\n",
            "<keras.src.layers.core.dense.Dense object at 0x7f33655539a0>\n",
            "<keras.src.layers.core.dense.Dense object at 0x7f3365553940>\n"
          ]
        }
      ]
    },
    {
      "cell_type": "markdown",
      "metadata": {
        "id": "bac15iojpkIl"
      },
      "source": [
        "All layers have also a name (string). You can specify your own names when creating a layers. If you don't, Keras uses its own internal naming scheme (as seen in the summary)."
      ]
    },
    {
      "cell_type": "code",
      "metadata": {
        "id": "FsDv1tz0Va-T",
        "colab": {
          "base_uri": "https://localhost:8080/"
        },
        "outputId": "feb73844-5469-4b46-bf04-685b1d59e03c"
      },
      "source": [
        "hidden1 = model.layers[1]\n",
        "print(hidden1.name)"
      ],
      "execution_count": 45,
      "outputs": [
        {
          "output_type": "stream",
          "name": "stdout",
          "text": [
            "dense\n"
          ]
        }
      ]
    },
    {
      "cell_type": "markdown",
      "metadata": {
        "id": "Ok6eN1ROqHgL"
      },
      "source": [
        "While you can access layers by their index, you can also access them by their name."
      ]
    },
    {
      "cell_type": "code",
      "metadata": {
        "id": "qw6VWJqnVa-T",
        "colab": {
          "base_uri": "https://localhost:8080/"
        },
        "outputId": "6c131d79-4d40-48ed-e21e-93846bd6d3ed"
      },
      "source": [
        "named_layer = model.get_layer(hidden1.name)\n",
        "# test that we got the same layer as when indexing with 1\n",
        "print(named_layer is hidden1)"
      ],
      "execution_count": 46,
      "outputs": [
        {
          "output_type": "stream",
          "name": "stdout",
          "text": [
            "True\n"
          ]
        }
      ]
    },
    {
      "cell_type": "markdown",
      "metadata": {
        "id": "_0xQha13qkgL"
      },
      "source": [
        "You have also access to the weights and biases of layers. Operation `get_weights` returns all parameters (weights and biases in this case) of the layer in a list. This may be a bit confusing in the start."
      ]
    },
    {
      "cell_type": "code",
      "metadata": {
        "id": "dr2flGfWVa-T",
        "colab": {
          "base_uri": "https://localhost:8080/"
        },
        "outputId": "23a47944-86f9-49cb-9636-f6d68200c7c1"
      },
      "source": [
        "h1_params = hidden1.get_weights()\n",
        "print(type(h1_params))\n",
        "print(len(h1_params))"
      ],
      "execution_count": 47,
      "outputs": [
        {
          "output_type": "stream",
          "name": "stdout",
          "text": [
            "<class 'list'>\n",
            "2\n"
          ]
        }
      ]
    },
    {
      "cell_type": "markdown",
      "metadata": {
        "id": "KLzonz2LtQ7W"
      },
      "source": [
        "Let's first examine the weights. Looks like they have been initialized to small random values."
      ]
    },
    {
      "cell_type": "code",
      "metadata": {
        "id": "cnDl0dqArTeX",
        "colab": {
          "base_uri": "https://localhost:8080/"
        },
        "outputId": "34f3c15d-73f4-4dd7-9071-cd4caefe8f4e"
      },
      "source": [
        "# weights are the first element\n",
        "h1_weights = h1_params[0]\n",
        "print(type(h1_weights))\n",
        "print('Weight matrix shape: ', h1_weights.shape, '\\n')\n",
        "print(h1_weights, '\\n')\n",
        "print('Weight at 0,0:', h1_weights[0,0])"
      ],
      "execution_count": 48,
      "outputs": [
        {
          "output_type": "stream",
          "name": "stdout",
          "text": [
            "<class 'numpy.ndarray'>\n",
            "Weight matrix shape:  (784, 300) \n",
            "\n",
            "[[-0.06388576 -0.03658698 -0.04198488 ...  0.02092735 -0.03673508\n",
            "  -0.04259662]\n",
            " [ 0.04176055  0.00162388 -0.02101285 ...  0.03818389  0.03964058\n",
            "   0.05701923]\n",
            " [ 0.04026184 -0.07435661 -0.06141824 ...  0.01423145  0.04827011\n",
            "  -0.02749394]\n",
            " ...\n",
            " [-0.03299503  0.00941265 -0.05343912 ...  0.01757906  0.02081993\n",
            "   0.07198904]\n",
            " [ 0.03684308  0.05246262 -0.05100635 ...  0.00533959 -0.02173604\n",
            "   0.0177986 ]\n",
            " [ 0.01584058 -0.01752397  0.05973627 ... -0.04001818 -0.0395748\n",
            "  -0.02043591]] \n",
            "\n",
            "Weight at 0,0: -0.063885756\n"
          ]
        }
      ]
    },
    {
      "cell_type": "markdown",
      "metadata": {
        "id": "BzxMmmactafI"
      },
      "source": [
        "Biases, on the other hand, have been initialized to zeros (it's ok)."
      ]
    },
    {
      "cell_type": "code",
      "metadata": {
        "id": "AAAVq-KlsN-s",
        "colab": {
          "base_uri": "https://localhost:8080/"
        },
        "outputId": "25a04d74-76b9-4be4-b01f-a2fa4700ef38"
      },
      "source": [
        "# and biases are the second one\n",
        "h1_biases = h1_params[1]\n",
        "print(type(h1_biases))\n",
        "print('Bias vector shape: ', h1_biases.shape, '\\n')\n",
        "print(h1_biases, '\\n')\n",
        "print('Bias at 0:', h1_biases[0])"
      ],
      "execution_count": 49,
      "outputs": [
        {
          "output_type": "stream",
          "name": "stdout",
          "text": [
            "<class 'numpy.ndarray'>\n",
            "Bias vector shape:  (300,) \n",
            "\n",
            "[0. 0. 0. 0. 0. 0. 0. 0. 0. 0. 0. 0. 0. 0. 0. 0. 0. 0. 0. 0. 0. 0. 0. 0.\n",
            " 0. 0. 0. 0. 0. 0. 0. 0. 0. 0. 0. 0. 0. 0. 0. 0. 0. 0. 0. 0. 0. 0. 0. 0.\n",
            " 0. 0. 0. 0. 0. 0. 0. 0. 0. 0. 0. 0. 0. 0. 0. 0. 0. 0. 0. 0. 0. 0. 0. 0.\n",
            " 0. 0. 0. 0. 0. 0. 0. 0. 0. 0. 0. 0. 0. 0. 0. 0. 0. 0. 0. 0. 0. 0. 0. 0.\n",
            " 0. 0. 0. 0. 0. 0. 0. 0. 0. 0. 0. 0. 0. 0. 0. 0. 0. 0. 0. 0. 0. 0. 0. 0.\n",
            " 0. 0. 0. 0. 0. 0. 0. 0. 0. 0. 0. 0. 0. 0. 0. 0. 0. 0. 0. 0. 0. 0. 0. 0.\n",
            " 0. 0. 0. 0. 0. 0. 0. 0. 0. 0. 0. 0. 0. 0. 0. 0. 0. 0. 0. 0. 0. 0. 0. 0.\n",
            " 0. 0. 0. 0. 0. 0. 0. 0. 0. 0. 0. 0. 0. 0. 0. 0. 0. 0. 0. 0. 0. 0. 0. 0.\n",
            " 0. 0. 0. 0. 0. 0. 0. 0. 0. 0. 0. 0. 0. 0. 0. 0. 0. 0. 0. 0. 0. 0. 0. 0.\n",
            " 0. 0. 0. 0. 0. 0. 0. 0. 0. 0. 0. 0. 0. 0. 0. 0. 0. 0. 0. 0. 0. 0. 0. 0.\n",
            " 0. 0. 0. 0. 0. 0. 0. 0. 0. 0. 0. 0. 0. 0. 0. 0. 0. 0. 0. 0. 0. 0. 0. 0.\n",
            " 0. 0. 0. 0. 0. 0. 0. 0. 0. 0. 0. 0. 0. 0. 0. 0. 0. 0. 0. 0. 0. 0. 0. 0.\n",
            " 0. 0. 0. 0. 0. 0. 0. 0. 0. 0. 0. 0.] \n",
            "\n",
            "Bias at 0: 0.0\n"
          ]
        }
      ]
    },
    {
      "cell_type": "markdown",
      "metadata": {
        "id": "rg8OVpxTspLL"
      },
      "source": [
        "The values in weights and biases were initialized when the layers were created. The values seen above are the result of applying default initializers; see [`Dense`](https://www.tensorflow.org/api_docs/python/tf/keras/layers/Dense) documentation for details."
      ]
    },
    {
      "cell_type": "markdown",
      "metadata": {
        "id": "DDjfh2l8xhKQ"
      },
      "source": [
        "# Compiling the model\n",
        "\n",
        "After the model has been constructed, we \"compile\" it. In particular, we specify\n",
        "- the loss function and the optimizer to use\n",
        "- list of extra metrics to compute during training and evaluation (optional but highly useful)\n",
        "\n",
        "We use the \"sparse\" version of cross entropy, since our class targets are just numbers (sparse versions of the corresponding one-hot vector). More of this a bit later.\n",
        "\n",
        "Use [`binary_crossentropy`](https://www.tensorflow.org/api_docs/python/tf/keras/losses/binary_crossentropy) for binary classification models (which should end with a single sigmoid output unit)."
      ]
    },
    {
      "cell_type": "code",
      "metadata": {
        "id": "TgdHqqDXVa-U"
      },
      "source": [
        "# Links to API documentation\n",
        "# https://www.tensorflow.org/api_docs/python/tf/keras/losses/sparse_categorical_crossentropy\n",
        "# https://www.tensorflow.org/api_docs/python/tf/keras/optimizers/SGD\n",
        "# https://www.tensorflow.org/api_docs/python/tf/keras/metrics/sparse_categorical_accuracy\n",
        "\n",
        "# Also these have their string names but not using them\n",
        "my_loss = tf.keras.losses.sparse_categorical_crossentropy\n",
        "my_sgd  = optimizer=keras.optimizers.SGD()\n",
        "my_acc_metric = keras.metrics.sparse_categorical_accuracy\n",
        "\n",
        "model.compile(loss = my_loss,\n",
        "              optimizer = my_sgd,\n",
        "              metrics=[my_acc_metric])"
      ],
      "execution_count": 50,
      "outputs": []
    },
    {
      "cell_type": "markdown",
      "metadata": {
        "id": "6soNuFpW5vtL"
      },
      "source": [
        "# Training the model\n",
        "\n",
        "All you need to do is call the [`fit`](https://www.tensorflow.org/api_docs/python/tf/keras/Sequential#fit) method. It takes as its input\n",
        "- input features and the target classes\n",
        "- number of epochs to train (default: 1)\n",
        "- validation set (optional but strongly recommended)\n",
        "\n",
        "While training, we get progress information\n",
        "- number of instances processed\n",
        "- time per epoch and mean training time per sample\n",
        "- loss and accuracy (or any other extra metrics)\n",
        "\ton both the training set and the validation set\n"
      ]
    },
    {
      "cell_type": "code",
      "metadata": {
        "id": "YeMiCQ5cVa-V",
        "colab": {
          "base_uri": "https://localhost:8080/"
        },
        "outputId": "395b3d1e-20c2-4601-b027-1ad34034a88a"
      },
      "source": [
        "history = model.fit(X_train, y_train, epochs = 30,\n",
        "                    validation_data=(X_valid, y_valid))"
      ],
      "execution_count": 51,
      "outputs": [
        {
          "output_type": "stream",
          "name": "stdout",
          "text": [
            "Epoch 1/30\n",
            "1719/1719 [==============================] - 8s 4ms/step - loss: 0.7159 - sparse_categorical_accuracy: 0.7658 - val_loss: 0.5100 - val_sparse_categorical_accuracy: 0.8250\n",
            "Epoch 2/30\n",
            "1719/1719 [==============================] - 5s 3ms/step - loss: 0.4852 - sparse_categorical_accuracy: 0.8303 - val_loss: 0.4361 - val_sparse_categorical_accuracy: 0.8486\n",
            "Epoch 3/30\n",
            "1719/1719 [==============================] - 6s 4ms/step - loss: 0.4409 - sparse_categorical_accuracy: 0.8448 - val_loss: 0.5398 - val_sparse_categorical_accuracy: 0.7990\n",
            "Epoch 4/30\n",
            "1719/1719 [==============================] - 5s 3ms/step - loss: 0.4148 - sparse_categorical_accuracy: 0.8545 - val_loss: 0.3987 - val_sparse_categorical_accuracy: 0.8668\n",
            "Epoch 5/30\n",
            "1719/1719 [==============================] - 6s 4ms/step - loss: 0.3964 - sparse_categorical_accuracy: 0.8617 - val_loss: 0.3797 - val_sparse_categorical_accuracy: 0.8660\n",
            "Epoch 6/30\n",
            "1719/1719 [==============================] - 6s 4ms/step - loss: 0.3777 - sparse_categorical_accuracy: 0.8669 - val_loss: 0.3699 - val_sparse_categorical_accuracy: 0.8740\n",
            "Epoch 7/30\n",
            "1719/1719 [==============================] - 6s 4ms/step - loss: 0.3651 - sparse_categorical_accuracy: 0.8714 - val_loss: 0.3644 - val_sparse_categorical_accuracy: 0.8724\n",
            "Epoch 8/30\n",
            "1719/1719 [==============================] - 6s 3ms/step - loss: 0.3534 - sparse_categorical_accuracy: 0.8738 - val_loss: 0.3782 - val_sparse_categorical_accuracy: 0.8634\n",
            "Epoch 9/30\n",
            "1719/1719 [==============================] - 6s 4ms/step - loss: 0.3428 - sparse_categorical_accuracy: 0.8787 - val_loss: 0.3551 - val_sparse_categorical_accuracy: 0.8718\n",
            "Epoch 10/30\n",
            "1719/1719 [==============================] - 6s 3ms/step - loss: 0.3335 - sparse_categorical_accuracy: 0.8817 - val_loss: 0.3442 - val_sparse_categorical_accuracy: 0.8764\n",
            "Epoch 11/30\n",
            "1719/1719 [==============================] - 6s 3ms/step - loss: 0.3251 - sparse_categorical_accuracy: 0.8833 - val_loss: 0.3426 - val_sparse_categorical_accuracy: 0.8804\n",
            "Epoch 12/30\n",
            "1719/1719 [==============================] - 6s 4ms/step - loss: 0.3160 - sparse_categorical_accuracy: 0.8859 - val_loss: 0.3301 - val_sparse_categorical_accuracy: 0.8850\n",
            "Epoch 13/30\n",
            "1719/1719 [==============================] - 6s 3ms/step - loss: 0.3090 - sparse_categorical_accuracy: 0.8885 - val_loss: 0.3342 - val_sparse_categorical_accuracy: 0.8832\n",
            "Epoch 14/30\n",
            "1719/1719 [==============================] - 6s 4ms/step - loss: 0.3029 - sparse_categorical_accuracy: 0.8906 - val_loss: 0.3420 - val_sparse_categorical_accuracy: 0.8748\n",
            "Epoch 15/30\n",
            "1719/1719 [==============================] - 5s 3ms/step - loss: 0.2953 - sparse_categorical_accuracy: 0.8938 - val_loss: 0.3279 - val_sparse_categorical_accuracy: 0.8838\n",
            "Epoch 16/30\n",
            "1719/1719 [==============================] - 6s 4ms/step - loss: 0.2903 - sparse_categorical_accuracy: 0.8957 - val_loss: 0.3113 - val_sparse_categorical_accuracy: 0.8884\n",
            "Epoch 17/30\n",
            "1719/1719 [==============================] - 6s 3ms/step - loss: 0.2847 - sparse_categorical_accuracy: 0.8972 - val_loss: 0.3564 - val_sparse_categorical_accuracy: 0.8726\n",
            "Epoch 18/30\n",
            "1719/1719 [==============================] - 7s 4ms/step - loss: 0.2783 - sparse_categorical_accuracy: 0.9001 - val_loss: 0.3152 - val_sparse_categorical_accuracy: 0.8876\n",
            "Epoch 19/30\n",
            "1719/1719 [==============================] - 5s 3ms/step - loss: 0.2737 - sparse_categorical_accuracy: 0.9012 - val_loss: 0.3085 - val_sparse_categorical_accuracy: 0.8894\n",
            "Epoch 20/30\n",
            "1719/1719 [==============================] - 6s 4ms/step - loss: 0.2679 - sparse_categorical_accuracy: 0.9041 - val_loss: 0.3319 - val_sparse_categorical_accuracy: 0.8808\n",
            "Epoch 21/30\n",
            "1719/1719 [==============================] - 6s 3ms/step - loss: 0.2630 - sparse_categorical_accuracy: 0.9051 - val_loss: 0.3028 - val_sparse_categorical_accuracy: 0.8908\n",
            "Epoch 22/30\n",
            "1719/1719 [==============================] - 5s 3ms/step - loss: 0.2582 - sparse_categorical_accuracy: 0.9069 - val_loss: 0.2977 - val_sparse_categorical_accuracy: 0.8926\n",
            "Epoch 23/30\n",
            "1719/1719 [==============================] - 6s 4ms/step - loss: 0.2541 - sparse_categorical_accuracy: 0.9076 - val_loss: 0.3012 - val_sparse_categorical_accuracy: 0.8920\n",
            "Epoch 24/30\n",
            "1719/1719 [==============================] - 5s 3ms/step - loss: 0.2495 - sparse_categorical_accuracy: 0.9101 - val_loss: 0.3071 - val_sparse_categorical_accuracy: 0.8882\n",
            "Epoch 25/30\n",
            "1719/1719 [==============================] - 6s 4ms/step - loss: 0.2451 - sparse_categorical_accuracy: 0.9117 - val_loss: 0.2996 - val_sparse_categorical_accuracy: 0.8908\n",
            "Epoch 26/30\n",
            "1719/1719 [==============================] - 5s 3ms/step - loss: 0.2407 - sparse_categorical_accuracy: 0.9139 - val_loss: 0.3089 - val_sparse_categorical_accuracy: 0.8888\n",
            "Epoch 27/30\n",
            "1719/1719 [==============================] - 6s 4ms/step - loss: 0.2375 - sparse_categorical_accuracy: 0.9162 - val_loss: 0.2988 - val_sparse_categorical_accuracy: 0.8930\n",
            "Epoch 28/30\n",
            "1719/1719 [==============================] - 5s 3ms/step - loss: 0.2334 - sparse_categorical_accuracy: 0.9165 - val_loss: 0.3052 - val_sparse_categorical_accuracy: 0.8888\n",
            "Epoch 29/30\n",
            "1719/1719 [==============================] - 6s 3ms/step - loss: 0.2289 - sparse_categorical_accuracy: 0.9177 - val_loss: 0.3112 - val_sparse_categorical_accuracy: 0.8896\n",
            "Epoch 30/30\n",
            "1719/1719 [==============================] - 6s 3ms/step - loss: 0.2254 - sparse_categorical_accuracy: 0.9195 - val_loss: 0.3048 - val_sparse_categorical_accuracy: 0.8934\n"
          ]
        }
      ]
    },
    {
      "cell_type": "markdown",
      "metadata": {
        "id": "rdsrkkF2-FQI"
      },
      "source": [
        "## Sidestep: \"sparse labels\""
      ]
    },
    {
      "cell_type": "markdown",
      "metadata": {
        "id": "OR9hhLoN1o0c"
      },
      "source": [
        "We used the \"sparse\" version of cross entropy, since we didn't \"one-hot\" code our class target values (they are just numbers). Keras offers `to_categorical` utility, should you want to go this way."
      ]
    },
    {
      "cell_type": "code",
      "metadata": {
        "id": "PPew5o2Y1x5l"
      },
      "source": [
        "y_train_hot = keras.utils.to_categorical(y_train)\n",
        "y_valid_hot = keras.utils.to_categorical(y_valid)\n",
        "y_test_hot  = keras.utils.to_categorical(y_test)"
      ],
      "execution_count": 52,
      "outputs": []
    },
    {
      "cell_type": "code",
      "metadata": {
        "id": "Mh6sN-_L15Sf",
        "colab": {
          "base_uri": "https://localhost:8080/"
        },
        "outputId": "26433790-06e4-4f7c-fd31-d96588728d6d"
      },
      "source": [
        "print(y_train_hot.shape)\n",
        "print(y_train_hot[0])"
      ],
      "execution_count": 53,
      "outputs": [
        {
          "output_type": "stream",
          "name": "stdout",
          "text": [
            "(55000, 10)\n",
            "[0. 0. 0. 0. 1. 0. 0. 0. 0. 0.]\n"
          ]
        }
      ]
    },
    {
      "cell_type": "markdown",
      "metadata": {
        "id": "zo-7xhmD2f-u"
      },
      "source": [
        "If needed, you can easily map one-hot vectors to their sparse versions:"
      ]
    },
    {
      "cell_type": "code",
      "metadata": {
        "id": "U21MjKQ02ogV"
      },
      "source": [
        "# converts the whole tensor, argmax is applied on the entries in the second axis (our one-hot vectors)\n",
        "sparse_labels = np.argmax(y_train_hot, axis=1)"
      ],
      "execution_count": 54,
      "outputs": []
    },
    {
      "cell_type": "code",
      "metadata": {
        "id": "M4VcXgdU26CI",
        "colab": {
          "base_uri": "https://localhost:8080/"
        },
        "outputId": "0abb1409-8f99-4115-9070-bc50ef7b596b"
      },
      "source": [
        "print(sparse_labels.shape)\n",
        "print(sparse_labels[0])"
      ],
      "execution_count": 55,
      "outputs": [
        {
          "output_type": "stream",
          "name": "stdout",
          "text": [
            "(55000,)\n",
            "4\n"
          ]
        }
      ]
    },
    {
      "cell_type": "markdown",
      "metadata": {
        "id": "tgiVTNr42DnJ"
      },
      "source": [
        "You then use the one-hot coded labels as the training targets and the (standard) categorical cross entropy as the loss. Everything else is the same."
      ]
    },
    {
      "cell_type": "code",
      "metadata": {
        "id": "1kzEGVGRbeAE"
      },
      "source": [
        "# we create a new fresh model for training\n",
        "# otherwise fit would continue from the weights already trained by the precious rounds (try this out)\n",
        "free_memory()\n",
        "model = create_MLP()"
      ],
      "execution_count": 56,
      "outputs": []
    },
    {
      "cell_type": "code",
      "metadata": {
        "id": "cjxjjD0R3Xqq"
      },
      "source": [
        "my_loss = tf.keras.losses.CategoricalCrossentropy()\n",
        "my_sgd  = optimizer=keras.optimizers.SGD()\n",
        "my_acc_metric = keras.metrics.categorical_accuracy\n",
        "\n",
        "model.compile(loss = my_loss,\n",
        "              optimizer = my_sgd,\n",
        "              metrics=[my_acc_metric])"
      ],
      "execution_count": 57,
      "outputs": []
    },
    {
      "cell_type": "code",
      "metadata": {
        "id": "7vgm_WhV3voo",
        "colab": {
          "base_uri": "https://localhost:8080/"
        },
        "outputId": "337673fa-a6a0-4f0c-a853-d9d15526e85f"
      },
      "source": [
        "history = model.fit(X_train, y_train_hot, epochs=30,\n",
        "                    validation_data=(X_valid, y_valid_hot))"
      ],
      "execution_count": 58,
      "outputs": [
        {
          "output_type": "stream",
          "name": "stdout",
          "text": [
            "Epoch 1/30\n",
            "1719/1719 [==============================] - 7s 4ms/step - loss: 0.7214 - categorical_accuracy: 0.7594 - val_loss: 0.5334 - val_categorical_accuracy: 0.8164\n",
            "Epoch 2/30\n",
            "1719/1719 [==============================] - 6s 4ms/step - loss: 0.4909 - categorical_accuracy: 0.8269 - val_loss: 0.4418 - val_categorical_accuracy: 0.8494\n",
            "Epoch 3/30\n",
            "1719/1719 [==============================] - 6s 3ms/step - loss: 0.4461 - categorical_accuracy: 0.8417 - val_loss: 0.5732 - val_categorical_accuracy: 0.7856\n",
            "Epoch 4/30\n",
            "1719/1719 [==============================] - 6s 4ms/step - loss: 0.4194 - categorical_accuracy: 0.8528 - val_loss: 0.3970 - val_categorical_accuracy: 0.8636\n",
            "Epoch 5/30\n",
            "1719/1719 [==============================] - 6s 3ms/step - loss: 0.4001 - categorical_accuracy: 0.8600 - val_loss: 0.3802 - val_categorical_accuracy: 0.8684\n",
            "Epoch 6/30\n",
            "1719/1719 [==============================] - 7s 4ms/step - loss: 0.3807 - categorical_accuracy: 0.8659 - val_loss: 0.3753 - val_categorical_accuracy: 0.8722\n",
            "Epoch 7/30\n",
            "1719/1719 [==============================] - 6s 3ms/step - loss: 0.3673 - categorical_accuracy: 0.8697 - val_loss: 0.3693 - val_categorical_accuracy: 0.8726\n",
            "Epoch 8/30\n",
            "1719/1719 [==============================] - 7s 4ms/step - loss: 0.3554 - categorical_accuracy: 0.8736 - val_loss: 0.3922 - val_categorical_accuracy: 0.8610\n",
            "Epoch 9/30\n",
            "1719/1719 [==============================] - 6s 3ms/step - loss: 0.3445 - categorical_accuracy: 0.8793 - val_loss: 0.3518 - val_categorical_accuracy: 0.8744\n",
            "Epoch 10/30\n",
            "1719/1719 [==============================] - 7s 4ms/step - loss: 0.3351 - categorical_accuracy: 0.8800 - val_loss: 0.3568 - val_categorical_accuracy: 0.8708\n",
            "Epoch 11/30\n",
            "1719/1719 [==============================] - 6s 4ms/step - loss: 0.3263 - categorical_accuracy: 0.8831 - val_loss: 0.3429 - val_categorical_accuracy: 0.8766\n",
            "Epoch 12/30\n",
            "1719/1719 [==============================] - 7s 4ms/step - loss: 0.3167 - categorical_accuracy: 0.8863 - val_loss: 0.3355 - val_categorical_accuracy: 0.8802\n",
            "Epoch 13/30\n",
            "1719/1719 [==============================] - 6s 3ms/step - loss: 0.3099 - categorical_accuracy: 0.8894 - val_loss: 0.3348 - val_categorical_accuracy: 0.8828\n",
            "Epoch 14/30\n",
            "1719/1719 [==============================] - 6s 4ms/step - loss: 0.3034 - categorical_accuracy: 0.8911 - val_loss: 0.3509 - val_categorical_accuracy: 0.8692\n",
            "Epoch 15/30\n",
            "1719/1719 [==============================] - 6s 3ms/step - loss: 0.2960 - categorical_accuracy: 0.8937 - val_loss: 0.3310 - val_categorical_accuracy: 0.8824\n",
            "Epoch 16/30\n",
            "1719/1719 [==============================] - 6s 3ms/step - loss: 0.2904 - categorical_accuracy: 0.8959 - val_loss: 0.3152 - val_categorical_accuracy: 0.8872\n",
            "Epoch 17/30\n",
            "1719/1719 [==============================] - 6s 4ms/step - loss: 0.2849 - categorical_accuracy: 0.8982 - val_loss: 0.3625 - val_categorical_accuracy: 0.8716\n",
            "Epoch 18/30\n",
            "1719/1719 [==============================] - 6s 3ms/step - loss: 0.2789 - categorical_accuracy: 0.8999 - val_loss: 0.3179 - val_categorical_accuracy: 0.8896\n",
            "Epoch 19/30\n",
            "1719/1719 [==============================] - 6s 4ms/step - loss: 0.2740 - categorical_accuracy: 0.9021 - val_loss: 0.3089 - val_categorical_accuracy: 0.8884\n",
            "Epoch 20/30\n",
            "1719/1719 [==============================] - 6s 4ms/step - loss: 0.2686 - categorical_accuracy: 0.9033 - val_loss: 0.3314 - val_categorical_accuracy: 0.8812\n",
            "Epoch 21/30\n",
            "1719/1719 [==============================] - 7s 4ms/step - loss: 0.2640 - categorical_accuracy: 0.9050 - val_loss: 0.3024 - val_categorical_accuracy: 0.8928\n",
            "Epoch 22/30\n",
            "1719/1719 [==============================] - 6s 3ms/step - loss: 0.2592 - categorical_accuracy: 0.9071 - val_loss: 0.3031 - val_categorical_accuracy: 0.8926\n",
            "Epoch 23/30\n",
            "1719/1719 [==============================] - 6s 4ms/step - loss: 0.2546 - categorical_accuracy: 0.9081 - val_loss: 0.3007 - val_categorical_accuracy: 0.8928\n",
            "Epoch 24/30\n",
            "1719/1719 [==============================] - 6s 3ms/step - loss: 0.2507 - categorical_accuracy: 0.9092 - val_loss: 0.3069 - val_categorical_accuracy: 0.8874\n",
            "Epoch 25/30\n",
            "1719/1719 [==============================] - 7s 4ms/step - loss: 0.2459 - categorical_accuracy: 0.9115 - val_loss: 0.3019 - val_categorical_accuracy: 0.8938\n",
            "Epoch 26/30\n",
            "1719/1719 [==============================] - 6s 4ms/step - loss: 0.2419 - categorical_accuracy: 0.9128 - val_loss: 0.3016 - val_categorical_accuracy: 0.8920\n",
            "Epoch 27/30\n",
            "1719/1719 [==============================] - 7s 4ms/step - loss: 0.2380 - categorical_accuracy: 0.9149 - val_loss: 0.3035 - val_categorical_accuracy: 0.8944\n",
            "Epoch 28/30\n",
            "1719/1719 [==============================] - 6s 3ms/step - loss: 0.2351 - categorical_accuracy: 0.9154 - val_loss: 0.3010 - val_categorical_accuracy: 0.8906\n",
            "Epoch 29/30\n",
            "1719/1719 [==============================] - 6s 4ms/step - loss: 0.2304 - categorical_accuracy: 0.9178 - val_loss: 0.3093 - val_categorical_accuracy: 0.8878\n",
            "Epoch 30/30\n",
            "1719/1719 [==============================] - 6s 3ms/step - loss: 0.2270 - categorical_accuracy: 0.9190 - val_loss: 0.3075 - val_categorical_accuracy: 0.8932\n"
          ]
        }
      ]
    },
    {
      "cell_type": "markdown",
      "metadata": {
        "id": "Fhz-jUgNhU-H"
      },
      "source": [
        "## Sidestep: Weighting classes and examples\n",
        "\n",
        "Sometimes there are lots of examples from some classes and less examples from some other classes. Since the (default) loss is simply the mean of all individual losses, the model may \"specialize\" it to fit the frequent classes.\n",
        "\n",
        "To avoid this, you can use the `class_weight` argument when training your model. Give a larger weight to underrepresented classes and a lower weight to overrepresented classes. One possible way is to set the class weights related to the inverses of class frequencies. The loss function then multiplies the individual losses using these weights.\n",
        "\n",
        "Your examples may also vary in their trustworthiness. For example, some labels might be given by domain experts and some by crowdsourcing. You can specify a weight for each training (and validation) instance with the `sample_weight` argument.\n",
        "\n",
        "If both `class_weight` and `sample_weight` are given, they are multiplied in loss computations. See [`fit` documentation](https://www.tensorflow.org/api_docs/python/tf/keras/Sequential#fit) for details."
      ]
    },
    {
      "cell_type": "markdown",
      "metadata": {
        "id": "QEnsTx9d-sRj"
      },
      "source": [
        "# Examining training history"
      ]
    },
    {
      "cell_type": "markdown",
      "metadata": {
        "id": "nBsoTxBV8BwG"
      },
      "source": [
        "The output of `fit` is a `History` object, which is very useful for analysing the training process (more of this later). In particular, `history.history` (stupid name) is a Python dictionary recording all the metrics values fit reported while training."
      ]
    },
    {
      "cell_type": "code",
      "metadata": {
        "id": "VtDT9a_I8D3C",
        "colab": {
          "base_uri": "https://localhost:8080/"
        },
        "outputId": "d9e9557a-ad04-4cff-f7dd-1cf2b09c6354"
      },
      "source": [
        "hist_params = history.params\n",
        "# sometimes you continue from a previous run (so epoch numbers don't always start from 0)\n",
        "hist_epochs = history.epoch\n",
        "hist_data = history.history\n",
        "\n",
        "print(hist_params)\n",
        "print(hist_epochs)\n",
        "print(hist_data.keys())"
      ],
      "execution_count": 59,
      "outputs": [
        {
          "output_type": "stream",
          "name": "stdout",
          "text": [
            "{'verbose': 1, 'epochs': 30, 'steps': 1719}\n",
            "[0, 1, 2, 3, 4, 5, 6, 7, 8, 9, 10, 11, 12, 13, 14, 15, 16, 17, 18, 19, 20, 21, 22, 23, 24, 25, 26, 27, 28, 29]\n",
            "dict_keys(['loss', 'categorical_accuracy', 'val_loss', 'val_categorical_accuracy'])\n"
          ]
        }
      ]
    },
    {
      "cell_type": "markdown",
      "metadata": {
        "id": "856PiHLneUbQ"
      },
      "source": [
        "Below is a typical matplotlib plot of the history data (layout could be improved)."
      ]
    },
    {
      "cell_type": "code",
      "metadata": {
        "id": "sMHIKKpyAgHG",
        "colab": {
          "base_uri": "https://localhost:8080/",
          "height": 481
        },
        "outputId": "ad986b6d-9fd6-4c8f-8819-2d933ffd75a2"
      },
      "source": [
        "# select which data you want to plot (we select all of them here)\n",
        "plt.plot(hist_data['loss'], label='Loss (training)')\n",
        "plt.plot(hist_data['val_loss'], label='Loss (validation)')\n",
        "plt.plot(hist_data['categorical_accuracy'], label='Accuracy (training)')\n",
        "plt.plot(hist_data['val_categorical_accuracy'], label='Accuracy (validation)')\n",
        "\n",
        "plt.title('Loss values')\n",
        "plt.ylabel('Cross entropy')\n",
        "plt.xlabel('Epoch')\n",
        "plt.legend(loc=\"upper left\")\n",
        "# You can comment this off if %matplotlib inline has been used\n",
        "plt.show()"
      ],
      "execution_count": 60,
      "outputs": [
        {
          "output_type": "display_data",
          "data": {
            "text/plain": [
              "<Figure size 640x480 with 1 Axes>"
            ],
            "image/png": "[encoded data removed]"
          },
          "metadata": {}
        }
      ]
    },
    {
      "cell_type": "markdown",
      "metadata": {
        "id": "OEjToVXiBQ5P"
      },
      "source": [
        "If you are familiar with Python data analysis library [`pandas`](https://pandas.pydata.org/), you can do the same in a much more compact way (and the default layout is better, too) by making use of [`DataFrame`](https://pandas.pydata.org/docs/user_guide/dsintro.html#dataframe)."
      ]
    },
    {
      "cell_type": "code",
      "metadata": {
        "id": "m4VQaWgYVa-W",
        "colab": {
          "base_uri": "https://localhost:8080/",
          "height": 456
        },
        "outputId": "a81adebc-15ed-472a-8489-22f7c4de6a2a"
      },
      "source": [
        "import pandas as pd\n",
        "\n",
        "pd.DataFrame(hist_data).plot(figsize=(8, 5))\n",
        "plt.grid(True)\n",
        "plt.gca().set_ylim(0, 1)\n",
        "plt.show()"
      ],
      "execution_count": 61,
      "outputs": [
        {
          "output_type": "display_data",
          "data": {
            "text/plain": [
              "<Figure size 800x500 with 1 Axes>"
            ],
            "image/png": "[encoded data removed]"
          },
          "metadata": {}
        }
      ]
    },
    {
      "cell_type": "markdown",
      "metadata": {
        "id": "Wi1RDJqjkoR7"
      },
      "source": [
        "We see from the plots that both the training accuracy and the validation accuracy steadily increase during training, while the training loss and the validation loss decrease. The validation curves are close to the training curves, which means that there is not too much overfitting.\n",
        "\n",
        "You can tell that the model has not quite converged yet, as the validation loss is still going down, so you should probably continue training (by calling the `fit()` method again).\n",
        "\n",
        "It may look strange that validation accuracy is better than training accuracy in the start of the training. This is because the training accuracy is a mean of all minibatch accuracies of the epoch, while the validation accuracy (and loss) is computed at the end of the epoch. Training losses are large in the beginning since weights were just random numbers, which leads to larger mean losses.\n",
        "\n",
        "For more comparable results, you can shift the training curve to the left by half an epoch in the plots. However, this difference should vanish after a few training epochs."
      ]
    },
    {
      "cell_type": "markdown",
      "metadata": {
        "id": "U57meGY8cwaO"
      },
      "source": [
        "*Best practise:* plot the history curves after training. Find the \"sweet spot\" where validation loss/accuracy stops improving. In hyperparameter tuning, look for the best such validation accuracies. (There are automatic tools for both of these tasks)"
      ]
    },
    {
      "cell_type": "markdown",
      "metadata": {
        "id": "H3rmTT1SoRtK"
      },
      "source": [
        "## Few words about hyperparameter tuning\n",
        "\n",
        "If the model isn't performing well enough, what can we tune?\n",
        "- learning rate (always retune it after changing any other hyperparameter)\n",
        "- another optimizer\n",
        "- model hyperparameters (number of layers, neurons per layer, activation functions in hidden layers)\n",
        "\n",
        "Real-world applications typically use a *schedule* for the learning rate. Keras offers some simple [`schedules`](https://www.tensorflow.org/api_docs/python/tf/keras/optimizers/schedules) and a customizabe [`LearningRateSchedule`](LearningRateSchedule), but you can go even more custom by defining your own \"callbacks\" (things that are called after each batch or epoch; more about them later).\n"
      ]
    },
    {
      "cell_type": "markdown",
      "metadata": {
        "id": "ynO53ErSC3rB"
      },
      "source": [
        "# Evaluating the model"
      ]
    },
    {
      "cell_type": "markdown",
      "metadata": {
        "id": "pkFKtRJynSr4"
      },
      "source": [
        "Our model (with best hyperparameters) has now been trained and we can evaluate it on the test set to estimate the *generalization error*."
      ]
    },
    {
      "cell_type": "code",
      "metadata": {
        "id": "6CIO5JRiVa-W",
        "colab": {
          "base_uri": "https://localhost:8080/"
        },
        "outputId": "34ad09c6-73ee-4b8b-fdf7-c0095431554d"
      },
      "source": [
        "#For comparision: accuracies after 30 epochs: 92.06% train, 88.56% val\n",
        "# use the one you trained your model with\n",
        "model.evaluate(X_test, y_test_hot)\n",
        "\n",
        "# model.evaluate(X_test, y_test)"
      ],
      "execution_count": 62,
      "outputs": [
        {
          "output_type": "stream",
          "name": "stdout",
          "text": [
            "313/313 [==============================] - 1s 2ms/step - loss: 0.3364 - categorical_accuracy: 0.8796\n"
          ]
        },
        {
          "output_type": "execute_result",
          "data": {
            "text/plain": [
              "[0.3363876938819885, 0.8795999884605408]"
            ]
          },
          "metadata": {},
          "execution_count": 62
        }
      ]
    },
    {
      "cell_type": "markdown",
      "metadata": {
        "id": "snN2X55Qqzae"
      },
      "source": [
        "It is expected to get slightly lower performance on the test set\n",
        "than on the validation set, since the hyperparameters were tuned on the validation set, not the test set."
      ]
    },
    {
      "cell_type": "markdown",
      "metadata": {
        "id": "xipc69pRqobD"
      },
      "source": [
        "# Using the model\n",
        "\n",
        "We decided that the performance of our model on the test set was acceptable and we can start using it in some application to make predictions for new examples.\n",
        "\n",
        "Since we don't have any, let's just re-use the test data."
      ]
    },
    {
      "cell_type": "code",
      "metadata": {
        "id": "7YaOKhSRVa-W",
        "colab": {
          "base_uri": "https://localhost:8080/"
        },
        "outputId": "3d5daa7a-4486-4905-89e7-82f70f769837"
      },
      "source": [
        "X_new = X_test[:3]\n",
        "y_proba = model.predict(X_new)\n"
      ],
      "execution_count": 63,
      "outputs": [
        {
          "output_type": "stream",
          "name": "stdout",
          "text": [
            "1/1 [==============================] - 0s 77ms/step\n"
          ]
        }
      ]
    },
    {
      "cell_type": "markdown",
      "metadata": {
        "id": "FA1SH5VCrdw4"
      },
      "source": [
        "The model output consists of 10 probabilities, one for each class:"
      ]
    },
    {
      "cell_type": "code",
      "metadata": {
        "id": "3XC08KGJrkuh",
        "colab": {
          "base_uri": "https://localhost:8080/"
        },
        "outputId": "1c2080dc-62eb-454d-db0e-80adc3c7c5de"
      },
      "source": [
        "print(y_proba.round(2))"
      ],
      "execution_count": 64,
      "outputs": [
        {
          "output_type": "stream",
          "name": "stdout",
          "text": [
            "[[0.   0.   0.   0.   0.   0.01 0.   0.02 0.   0.98]\n",
            " [0.   0.   0.99 0.   0.01 0.   0.   0.   0.   0.  ]\n",
            " [0.   1.   0.   0.   0.   0.   0.   0.   0.   0.  ]]\n"
          ]
        }
      ]
    },
    {
      "cell_type": "markdown",
      "metadata": {
        "id": "PQ4oAOQzrs7d"
      },
      "source": [
        "It looks like the first example has class 9, second class 2 and third one class 1. We can use `argmax` to pick these indexes."
      ]
    },
    {
      "cell_type": "code",
      "metadata": {
        "id": "V3avTLNgsIcJ",
        "colab": {
          "base_uri": "https://localhost:8080/"
        },
        "outputId": "4b09cd3d-a782-43a8-9a98-ebb51e684270"
      },
      "source": [
        "y_pred = np.argmax(y_proba, axis=-1)\n",
        "print(y_pred)"
      ],
      "execution_count": 65,
      "outputs": [
        {
          "output_type": "stream",
          "name": "stdout",
          "text": [
            "[9 2 1]\n"
          ]
        }
      ]
    },
    {
      "cell_type": "markdown",
      "metadata": {
        "id": "YUh9W62Ksinc"
      },
      "source": [
        "Let's see what were the corresponding ground truths (correct answers)."
      ]
    },
    {
      "cell_type": "code",
      "metadata": {
        "id": "WXaDkQKZsoQv",
        "colab": {
          "base_uri": "https://localhost:8080/"
        },
        "outputId": "59badff4-6cb8-4364-e2e1-368cc8b3566a"
      },
      "source": [
        "y_new = y_test[:3]\n",
        "print(y_new)"
      ],
      "execution_count": 66,
      "outputs": [
        {
          "output_type": "stream",
          "name": "stdout",
          "text": [
            "[9 2 1]\n"
          ]
        }
      ]
    },
    {
      "cell_type": "markdown",
      "metadata": {
        "id": "xskgwfsGsvXT"
      },
      "source": [
        "Finally, we decode the class names to make them readable for humans."
      ]
    },
    {
      "cell_type": "code",
      "metadata": {
        "id": "XKuuz8OsVa-X",
        "colab": {
          "base_uri": "https://localhost:8080/"
        },
        "outputId": "0664fcb3-21d2-440d-8c4d-56f40c489f04"
      },
      "source": [
        "print(np.array(class_names)[y_pred])"
      ],
      "execution_count": 67,
      "outputs": [
        {
          "output_type": "stream",
          "name": "stdout",
          "text": [
            "['Ankle boot' 'Pullover' 'Trousers']\n"
          ]
        }
      ]
    },
    {
      "cell_type": "markdown",
      "metadata": {
        "id": "x4rkVQ6_ujYL"
      },
      "source": [
        "# Summary\n",
        "\n",
        "Below is the collected code for the main steps of training a network."
      ]
    },
    {
      "cell_type": "code",
      "metadata": {
        "id": "D8fOoFVRvk_X"
      },
      "source": [
        "free_memory()"
      ],
      "execution_count": 68,
      "outputs": []
    },
    {
      "cell_type": "code",
      "metadata": {
        "id": "yJnx2Dq9we1N"
      },
      "source": [
        "# Load data (in this case all of it fits in the memory)\n",
        "(X_train_full, y_train_full), (X_test, y_test) = keras.datasets.fashion_mnist.load_data()"
      ],
      "execution_count": 69,
      "outputs": []
    },
    {
      "cell_type": "code",
      "metadata": {
        "id": "J8_SXtJXwh1U"
      },
      "source": [
        "# Create a validation set (if needed)\n",
        "# Preprocess the data (if needed, here just simple scaling)\n",
        "X_valid, X_train = X_train_full[:5000] / 255., X_train_full[5000:] / 255.\n",
        "y_valid, y_train = y_train_full[:5000], y_train_full[5000:]\n",
        "X_test = X_test / 255."
      ],
      "execution_count": 70,
      "outputs": []
    },
    {
      "cell_type": "code",
      "metadata": {
        "id": "LYq6JuHmwmLn"
      },
      "source": [
        "# create model\n",
        "model = keras.models.Sequential([\n",
        "    keras.layers.Flatten(input_shape = (28, 28)),\n",
        "    keras.layers.Dense(300, activation = keras.activations.relu),\n",
        "    keras.layers.Dense(100, activation = keras.activations.relu),\n",
        "    keras.layers.Dense(10,  activation = keras.activations.softmax)\n",
        "])"
      ],
      "execution_count": 71,
      "outputs": []
    },
    {
      "cell_type": "code",
      "metadata": {
        "id": "wOZVDmyyuvFu"
      },
      "source": [
        "# compile the model\n",
        "model.compile(loss = tf.keras.losses.SparseCategoricalCrossentropy(),\n",
        "              optimizer = keras.optimizers.SGD(),\n",
        "              metrics=[keras.metrics.sparse_categorical_accuracy])"
      ],
      "execution_count": 72,
      "outputs": []
    },
    {
      "cell_type": "code",
      "metadata": {
        "id": "EIEwIL3JwSD8",
        "colab": {
          "base_uri": "https://localhost:8080/"
        },
        "outputId": "19a38b3f-faf5-4e32-f3eb-51846bee367d"
      },
      "source": [
        "# train the model\n",
        "history = model.fit(X_train, y_train, epochs = 30, validation_data=(X_valid, y_valid))"
      ],
      "execution_count": 73,
      "outputs": [
        {
          "output_type": "stream",
          "name": "stdout",
          "text": [
            "Epoch 1/30\n",
            "1719/1719 [==============================] - 7s 4ms/step - loss: 0.7134 - sparse_categorical_accuracy: 0.7663 - val_loss: 0.5202 - val_sparse_categorical_accuracy: 0.8246\n",
            "Epoch 2/30\n",
            "1719/1719 [==============================] - 5s 3ms/step - loss: 0.4889 - sparse_categorical_accuracy: 0.8295 - val_loss: 0.4387 - val_sparse_categorical_accuracy: 0.8542\n",
            "Epoch 3/30\n",
            "1719/1719 [==============================] - 6s 4ms/step - loss: 0.4418 - sparse_categorical_accuracy: 0.8439 - val_loss: 0.5406 - val_sparse_categorical_accuracy: 0.7964\n",
            "Epoch 4/30\n",
            "1719/1719 [==============================] - 5s 3ms/step - loss: 0.4148 - sparse_categorical_accuracy: 0.8549 - val_loss: 0.3989 - val_sparse_categorical_accuracy: 0.8640\n",
            "Epoch 5/30\n",
            "1719/1719 [==============================] - 6s 3ms/step - loss: 0.3961 - sparse_categorical_accuracy: 0.8617 - val_loss: 0.3795 - val_sparse_categorical_accuracy: 0.8718\n",
            "Epoch 6/30\n",
            "1719/1719 [==============================] - 6s 3ms/step - loss: 0.3775 - sparse_categorical_accuracy: 0.8673 - val_loss: 0.3752 - val_sparse_categorical_accuracy: 0.8718\n",
            "Epoch 7/30\n",
            "1719/1719 [==============================] - 5s 3ms/step - loss: 0.3657 - sparse_categorical_accuracy: 0.8716 - val_loss: 0.3684 - val_sparse_categorical_accuracy: 0.8744\n",
            "Epoch 8/30\n",
            "1719/1719 [==============================] - 6s 4ms/step - loss: 0.3544 - sparse_categorical_accuracy: 0.8748 - val_loss: 0.3938 - val_sparse_categorical_accuracy: 0.8606\n",
            "Epoch 9/30\n",
            "1719/1719 [==============================] - 5s 3ms/step - loss: 0.3438 - sparse_categorical_accuracy: 0.8789 - val_loss: 0.3651 - val_sparse_categorical_accuracy: 0.8706\n",
            "Epoch 10/30\n",
            "1719/1719 [==============================] - 6s 4ms/step - loss: 0.3344 - sparse_categorical_accuracy: 0.8811 - val_loss: 0.3511 - val_sparse_categorical_accuracy: 0.8736\n",
            "Epoch 11/30\n",
            "1719/1719 [==============================] - 5s 3ms/step - loss: 0.3262 - sparse_categorical_accuracy: 0.8843 - val_loss: 0.3482 - val_sparse_categorical_accuracy: 0.8794\n",
            "Epoch 12/30\n",
            "1719/1719 [==============================] - 6s 4ms/step - loss: 0.3169 - sparse_categorical_accuracy: 0.8867 - val_loss: 0.3359 - val_sparse_categorical_accuracy: 0.8814\n",
            "Epoch 13/30\n",
            "1719/1719 [==============================] - 5s 3ms/step - loss: 0.3096 - sparse_categorical_accuracy: 0.8898 - val_loss: 0.3334 - val_sparse_categorical_accuracy: 0.8844\n",
            "Epoch 14/30\n",
            "1719/1719 [==============================] - 6s 3ms/step - loss: 0.3035 - sparse_categorical_accuracy: 0.8916 - val_loss: 0.3514 - val_sparse_categorical_accuracy: 0.8746\n",
            "Epoch 15/30\n",
            "1719/1719 [==============================] - 6s 3ms/step - loss: 0.2958 - sparse_categorical_accuracy: 0.8944 - val_loss: 0.3292 - val_sparse_categorical_accuracy: 0.8814\n",
            "Epoch 16/30\n",
            "1719/1719 [==============================] - 5s 3ms/step - loss: 0.2904 - sparse_categorical_accuracy: 0.8963 - val_loss: 0.3144 - val_sparse_categorical_accuracy: 0.8888\n",
            "Epoch 17/30\n",
            "1719/1719 [==============================] - 6s 4ms/step - loss: 0.2850 - sparse_categorical_accuracy: 0.8984 - val_loss: 0.3505 - val_sparse_categorical_accuracy: 0.8758\n",
            "Epoch 18/30\n",
            "1719/1719 [==============================] - 5s 3ms/step - loss: 0.2788 - sparse_categorical_accuracy: 0.8997 - val_loss: 0.3189 - val_sparse_categorical_accuracy: 0.8902\n",
            "Epoch 19/30\n",
            "1719/1719 [==============================] - 6s 4ms/step - loss: 0.2740 - sparse_categorical_accuracy: 0.9019 - val_loss: 0.3130 - val_sparse_categorical_accuracy: 0.8932\n",
            "Epoch 20/30\n",
            "1719/1719 [==============================] - 5s 3ms/step - loss: 0.2687 - sparse_categorical_accuracy: 0.9034 - val_loss: 0.3354 - val_sparse_categorical_accuracy: 0.8822\n",
            "Epoch 21/30\n",
            "1719/1719 [==============================] - 6s 3ms/step - loss: 0.2634 - sparse_categorical_accuracy: 0.9058 - val_loss: 0.3049 - val_sparse_categorical_accuracy: 0.8912\n",
            "Epoch 22/30\n",
            "1719/1719 [==============================] - 6s 3ms/step - loss: 0.2589 - sparse_categorical_accuracy: 0.9066 - val_loss: 0.2999 - val_sparse_categorical_accuracy: 0.8954\n",
            "Epoch 23/30\n",
            "1719/1719 [==============================] - 5s 3ms/step - loss: 0.2542 - sparse_categorical_accuracy: 0.9088 - val_loss: 0.3031 - val_sparse_categorical_accuracy: 0.8930\n",
            "Epoch 24/30\n",
            "1719/1719 [==============================] - 6s 4ms/step - loss: 0.2503 - sparse_categorical_accuracy: 0.9093 - val_loss: 0.3101 - val_sparse_categorical_accuracy: 0.8916\n",
            "Epoch 25/30\n",
            "1719/1719 [==============================] - 5s 3ms/step - loss: 0.2457 - sparse_categorical_accuracy: 0.9122 - val_loss: 0.3019 - val_sparse_categorical_accuracy: 0.8944\n",
            "Epoch 26/30\n",
            "1719/1719 [==============================] - 6s 4ms/step - loss: 0.2410 - sparse_categorical_accuracy: 0.9139 - val_loss: 0.3073 - val_sparse_categorical_accuracy: 0.8928\n",
            "Epoch 27/30\n",
            "1719/1719 [==============================] - 5s 3ms/step - loss: 0.2376 - sparse_categorical_accuracy: 0.9147 - val_loss: 0.3053 - val_sparse_categorical_accuracy: 0.8962\n",
            "Epoch 28/30\n",
            "1719/1719 [==============================] - 6s 4ms/step - loss: 0.2342 - sparse_categorical_accuracy: 0.9159 - val_loss: 0.3052 - val_sparse_categorical_accuracy: 0.8912\n",
            "Epoch 29/30\n",
            "1719/1719 [==============================] - 5s 3ms/step - loss: 0.2290 - sparse_categorical_accuracy: 0.9182 - val_loss: 0.3234 - val_sparse_categorical_accuracy: 0.8874\n",
            "Epoch 30/30\n",
            "1719/1719 [==============================] - 6s 3ms/step - loss: 0.2260 - sparse_categorical_accuracy: 0.9188 - val_loss: 0.3111 - val_sparse_categorical_accuracy: 0.8924\n"
          ]
        }
      ]
    }
  ]
}